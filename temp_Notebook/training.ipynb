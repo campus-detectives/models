{
 "cells": [
  {
   "cell_type": "markdown",
   "id": "0694dec3-e4c1-4a6c-8684-ce5a771008c7",
   "metadata": {},
   "source": [
    "### Importing libraries"
   ]
  },
  {
   "cell_type": "code",
   "execution_count": 1,
   "id": "e14c3505-d08b-452e-a29a-f70e5ec973c2",
   "metadata": {},
   "outputs": [
    {
     "name": "stdout",
     "output_type": "stream",
     "text": [
      "Using cuda\n"
     ]
    }
   ],
   "source": [
    "#Importing image file paths\n",
    "import os\n",
    "import glob\n",
    "import time\n",
    "\n",
    "#For managing dataframe\n",
    "import pandas as pd\n",
    "import numpy as np\n",
    "\n",
    "#PyTorch\n",
    "import torchaudio\n",
    "import torch\n",
    "import timm\n",
    "from torch.utils.tensorboard import SummaryWriter\n",
    "from torch.utils.data import Dataset\n",
    "from torch import nn\n",
    "from torchvision import transforms\n",
    "from fastai.vision.learner import create_body\n",
    "from torchinfo import summary\n",
    "\n",
    "from tqdm import tqdm\n",
    "\n",
    "\n",
    "#Metrics\n",
    "import seaborn as sb\n",
    "import matplotlib.pyplot as plt\n",
    "from torchmetrics.classification import MulticlassF1Score\n",
    "from torchmetrics.classification import ConfusionMatrix\n",
    "\n",
    "# Misc.\n",
    "import warnings\n",
    "import torchvision\n",
    "from PIL import Image\n",
    "from sklearn.model_selection import train_test_split\n",
    "from sklearn.utils.class_weight import compute_class_weight\n",
    "from sklearn.preprocessing import StandardScaler\n",
    "from tqdm.notebook import tqdm_notebook\n",
    "from collections import defaultdict\n",
    "\n",
    "import torch.nn.functional as F\n",
    "from torchvision import transforms\n",
    "import glob\n",
    "import time\n",
    "\n",
    "\n",
    "warnings.filterwarnings(\"ignore\")\n",
    "\n",
    "#Selecting device\n",
    "device=\"cuda\" if torch.cuda.is_available() else \"cpu\"\n",
    "\n",
    "print(f\"Using {device}\")"
   ]
  },
  {
   "cell_type": "markdown",
   "id": "a40b9f07-7b6c-4e03-a2ca-153fab532c7c",
   "metadata": {},
   "source": [
    "### Dataset"
   ]
  },
  {
   "cell_type": "code",
   "execution_count": 2,
   "id": "f18692f1-4e26-4ac6-9a17-6d7cc5ce0bf6",
   "metadata": {},
   "outputs": [],
   "source": [
    "class Dataset(torch.utils.data.IterableDataset):\n",
    "    def __init__(self, path, shuffle_pairs=True, augment=False):\n",
    "        '''\n",
    "        Create an iterable dataset from a directory containing sub-directories of \n",
    "        entities with their images contained inside each sub-directory.\n",
    "\n",
    "            Parameters:\n",
    "                    path (str):                 Path to directory containing the dataset.\n",
    "                    shuffle_pairs (boolean):    Pass True when training, False otherwise. When set to false, the image pair generation will be deterministic\n",
    "                    augment (boolean):          When True, images will be augmented using a standard set of transformations.\n",
    "\n",
    "            where b = batch size\n",
    "\n",
    "            Returns:\n",
    "                    output (torch.Tensor): shape=[b, 1], Similarity of each pair of images\n",
    "        '''\n",
    "        self.path = path\n",
    "\n",
    "        self.feed_shape = [3, 224, 224]\n",
    "        self.shuffle_pairs = shuffle_pairs\n",
    "\n",
    "        self.augment = augment\n",
    "\n",
    "        if self.augment:\n",
    "            # If images are to be augmented, add extra operations for it (first two).\n",
    "            self.transform = transforms.Compose([\n",
    "                transforms.RandomAffine(degrees=20, translate=(0.2, 0.2), scale=(0.8, 1.2), shear=0.2),\n",
    "                transforms.RandomHorizontalFlip(p=0.5),\n",
    "                transforms.ToTensor(),\n",
    "                transforms.Normalize(mean=[0.485, 0.456, 0.406], std=[0.229, 0.224, 0.225]),\n",
    "                transforms.Resize(self.feed_shape[1:])\n",
    "            ])\n",
    "        else:\n",
    "            # If no augmentation is needed then apply only the normalization and resizing operations.\n",
    "            self.transform = transforms.Compose([\n",
    "                transforms.ToTensor(),\n",
    "                transforms.Normalize(mean=[0.485, 0.456, 0.406], std=[0.229, 0.224, 0.225]),\n",
    "                transforms.Resize(self.feed_shape[1:])\n",
    "            ])\n",
    "\n",
    "        self.create_pairs()\n",
    "\n",
    "    def create_pairs(self):\n",
    "        '''\n",
    "        Creates two lists of indices that will form the pairs, to be fed for training or evaluation.\n",
    "        '''\n",
    "\n",
    "        self.image_paths = glob.glob(os.path.join(self.path, \"*/*.jpg\"))\n",
    "        self.image_classes = []\n",
    "        self.class_indices = {}\n",
    "\n",
    "        for image_path in self.image_paths:\n",
    "            image_class = image_path.split(os.path.sep)[-2]\n",
    "            self.image_classes.append(image_class)\n",
    "\n",
    "            if image_class not in self.class_indices:\n",
    "                self.class_indices[image_class] = []\n",
    "            self.class_indices[image_class].append(self.image_paths.index(image_path))\n",
    "\n",
    "        self.indices1 = np.arange(len(self.image_paths))\n",
    "\n",
    "        if self.shuffle_pairs:\n",
    "            np.random.seed(int(time.time()))\n",
    "            np.random.shuffle(self.indices1)\n",
    "        else:\n",
    "            # If shuffling is set to off, set the random seed to 1, to make it deterministic.\n",
    "            np.random.seed(1)\n",
    "\n",
    "        select_pos_pair = np.random.rand(len(self.image_paths)) < 0.5\n",
    "\n",
    "        self.indices2 = []\n",
    "\n",
    "        for i, pos in zip(self.indices1, select_pos_pair):\n",
    "            class1 = self.image_classes[i]\n",
    "            if pos:\n",
    "                class2 = class1\n",
    "            else:\n",
    "                class2 = np.random.choice(list(set(self.class_indices.keys()) - {class1}))\n",
    "            idx2 = np.random.choice(self.class_indices[class2])\n",
    "            self.indices2.append(idx2)\n",
    "        self.indices2 = np.array(self.indices2)\n",
    "\n",
    "    def __iter__(self):\n",
    "        self.create_pairs()\n",
    "\n",
    "        for idx, idx2 in zip(self.indices1, self.indices2):\n",
    "\n",
    "            image_path1 = self.image_paths[idx]\n",
    "            image_path2 = self.image_paths[idx2]\n",
    "\n",
    "            class1 = self.image_classes[idx]\n",
    "            class2 = self.image_classes[idx2]\n",
    "\n",
    "            image1 = Image.open(image_path1).convert(\"RGB\")\n",
    "            image2 = Image.open(image_path2).convert(\"RGB\")\n",
    "\n",
    "            if self.transform:\n",
    "                image1 = self.transform(image1).float()\n",
    "                image2 = self.transform(image2).float()\n",
    "\n",
    "            yield (image1, image2), torch.FloatTensor([class1==class2]), (class1, class2)\n",
    "        \n",
    "    def __len__(self):\n",
    "        return len(self.image_paths)\n"
   ]
  },
  {
   "cell_type": "code",
   "execution_count": 3,
   "id": "4b770ed5-3cf7-421f-8345-b5ce90a3a622",
   "metadata": {},
   "outputs": [
    {
     "name": "stdout",
     "output_type": "stream",
     "text": [
      "For training dataset: 30607\n",
      "For val dataset: 188\n"
     ]
    }
   ],
   "source": [
    "train_dataset   = Dataset(\"../DATASET/train/256_objectcategories/256_ObjectCategories/\", shuffle_pairs=True, augment=True)\n",
    "val_dataset     = Dataset(\"../DATASET/val\", shuffle_pairs=False, augment=False)\n",
    "\n",
    "print(f\"For training dataset: {len(train_dataset)}\")\n",
    "print(f\"For val dataset: {len(val_dataset)}\")\n",
    "\n",
    "train_dataloader = torch.utils.data.DataLoader(train_dataset, batch_size=32, drop_last=True)\n",
    "val_dataloader   = torch.utils.data.DataLoader(val_dataset, batch_size=32)"
   ]
  },
  {
   "cell_type": "markdown",
   "id": "b631b4c6-0c44-4ef9-b29a-693ec1163992",
   "metadata": {},
   "source": [
    "### Model"
   ]
  },
  {
   "cell_type": "code",
   "execution_count": 4,
   "id": "b0243fc4-d42d-4cc2-a8a6-ff17717deeb9",
   "metadata": {
    "scrolled": true
   },
   "outputs": [
    {
     "data": {
      "text/plain": [
       "['vit_base_patch8_224.augreg2_in21k_ft_in1k',\n",
       " 'vit_base_patch8_224.augreg_in21k',\n",
       " 'vit_base_patch8_224.augreg_in21k_ft_in1k',\n",
       " 'vit_base_patch8_224.dino',\n",
       " 'vit_base_patch14_dinov2.lvd142m',\n",
       " 'vit_base_patch14_reg4_dinov2.lvd142m',\n",
       " 'vit_base_patch16_224.augreg2_in21k_ft_in1k',\n",
       " 'vit_base_patch16_224.augreg_in1k',\n",
       " 'vit_base_patch16_224.augreg_in21k',\n",
       " 'vit_base_patch16_224.augreg_in21k_ft_in1k',\n",
       " 'vit_base_patch16_224.dino',\n",
       " 'vit_base_patch16_224.mae',\n",
       " 'vit_base_patch16_224.orig_in21k',\n",
       " 'vit_base_patch16_224.orig_in21k_ft_in1k',\n",
       " 'vit_base_patch16_224.sam_in1k',\n",
       " 'vit_base_patch16_224_miil.in21k',\n",
       " 'vit_base_patch16_224_miil.in21k_ft_in1k',\n",
       " 'vit_base_patch16_384.augreg_in1k',\n",
       " 'vit_base_patch16_384.augreg_in21k_ft_in1k',\n",
       " 'vit_base_patch16_384.orig_in21k_ft_in1k',\n",
       " 'vit_base_patch16_clip_224.datacompxl',\n",
       " 'vit_base_patch16_clip_224.dfn2b',\n",
       " 'vit_base_patch16_clip_224.laion2b',\n",
       " 'vit_base_patch16_clip_224.laion2b_ft_in1k',\n",
       " 'vit_base_patch16_clip_224.laion2b_ft_in12k',\n",
       " 'vit_base_patch16_clip_224.laion2b_ft_in12k_in1k',\n",
       " 'vit_base_patch16_clip_224.metaclip_2pt5b',\n",
       " 'vit_base_patch16_clip_224.openai',\n",
       " 'vit_base_patch16_clip_224.openai_ft_in1k',\n",
       " 'vit_base_patch16_clip_224.openai_ft_in12k',\n",
       " 'vit_base_patch16_clip_224.openai_ft_in12k_in1k',\n",
       " 'vit_base_patch16_clip_384.laion2b_ft_in1k',\n",
       " 'vit_base_patch16_clip_384.laion2b_ft_in12k_in1k',\n",
       " 'vit_base_patch16_clip_384.openai_ft_in1k',\n",
       " 'vit_base_patch16_clip_384.openai_ft_in12k_in1k',\n",
       " 'vit_base_patch16_clip_quickgelu_224.metaclip_2pt5b',\n",
       " 'vit_base_patch16_clip_quickgelu_224.openai',\n",
       " 'vit_base_patch16_rpn_224.sw_in1k',\n",
       " 'vit_base_patch16_siglip_224.webli',\n",
       " 'vit_base_patch16_siglip_256.webli',\n",
       " 'vit_base_patch16_siglip_384.webli',\n",
       " 'vit_base_patch16_siglip_512.webli',\n",
       " 'vit_base_patch32_224.augreg_in1k',\n",
       " 'vit_base_patch32_224.augreg_in21k',\n",
       " 'vit_base_patch32_224.augreg_in21k_ft_in1k',\n",
       " 'vit_base_patch32_224.orig_in21k',\n",
       " 'vit_base_patch32_224.sam_in1k',\n",
       " 'vit_base_patch32_384.augreg_in1k',\n",
       " 'vit_base_patch32_384.augreg_in21k_ft_in1k',\n",
       " 'vit_base_patch32_clip_224.datacompxl',\n",
       " 'vit_base_patch32_clip_224.laion2b',\n",
       " 'vit_base_patch32_clip_224.laion2b_ft_in1k',\n",
       " 'vit_base_patch32_clip_224.laion2b_ft_in12k_in1k',\n",
       " 'vit_base_patch32_clip_224.metaclip_2pt5b',\n",
       " 'vit_base_patch32_clip_224.openai',\n",
       " 'vit_base_patch32_clip_224.openai_ft_in1k',\n",
       " 'vit_base_patch32_clip_256.datacompxl',\n",
       " 'vit_base_patch32_clip_384.laion2b_ft_in12k_in1k',\n",
       " 'vit_base_patch32_clip_384.openai_ft_in12k_in1k',\n",
       " 'vit_base_patch32_clip_448.laion2b_ft_in12k_in1k',\n",
       " 'vit_base_patch32_clip_quickgelu_224.metaclip_2pt5b',\n",
       " 'vit_base_patch32_clip_quickgelu_224.openai',\n",
       " 'vit_base_r50_s16_224.orig_in21k',\n",
       " 'vit_base_r50_s16_384.orig_in21k_ft_in1k',\n",
       " 'vit_giant_patch14_clip_224.laion2b',\n",
       " 'vit_giant_patch14_dinov2.lvd142m',\n",
       " 'vit_giant_patch14_reg4_dinov2.lvd142m',\n",
       " 'vit_giant_patch16_gap_224.in22k_ijepa',\n",
       " 'vit_gigantic_patch14_clip_224.laion2b',\n",
       " 'vit_huge_patch14_224.mae',\n",
       " 'vit_huge_patch14_224.orig_in21k',\n",
       " 'vit_huge_patch14_clip_224.dfn5b',\n",
       " 'vit_huge_patch14_clip_224.laion2b',\n",
       " 'vit_huge_patch14_clip_224.laion2b_ft_in1k',\n",
       " 'vit_huge_patch14_clip_224.laion2b_ft_in12k',\n",
       " 'vit_huge_patch14_clip_224.laion2b_ft_in12k_in1k',\n",
       " 'vit_huge_patch14_clip_224.metaclip_2pt5b',\n",
       " 'vit_huge_patch14_clip_336.laion2b_ft_in12k_in1k',\n",
       " 'vit_huge_patch14_clip_378.dfn5b',\n",
       " 'vit_huge_patch14_clip_quickgelu_224.dfn5b',\n",
       " 'vit_huge_patch14_clip_quickgelu_224.metaclip_2pt5b',\n",
       " 'vit_huge_patch14_clip_quickgelu_378.dfn5b',\n",
       " 'vit_huge_patch14_gap_224.in1k_ijepa',\n",
       " 'vit_huge_patch14_gap_224.in22k_ijepa',\n",
       " 'vit_huge_patch16_gap_448.in1k_ijepa',\n",
       " 'vit_large_patch14_clip_224.datacompxl',\n",
       " 'vit_large_patch14_clip_224.dfn2b',\n",
       " 'vit_large_patch14_clip_224.laion2b',\n",
       " 'vit_large_patch14_clip_224.laion2b_ft_in1k',\n",
       " 'vit_large_patch14_clip_224.laion2b_ft_in12k',\n",
       " 'vit_large_patch14_clip_224.laion2b_ft_in12k_in1k',\n",
       " 'vit_large_patch14_clip_224.metaclip_2pt5b',\n",
       " 'vit_large_patch14_clip_224.openai',\n",
       " 'vit_large_patch14_clip_224.openai_ft_in1k',\n",
       " 'vit_large_patch14_clip_224.openai_ft_in12k',\n",
       " 'vit_large_patch14_clip_224.openai_ft_in12k_in1k',\n",
       " 'vit_large_patch14_clip_336.laion2b_ft_in1k',\n",
       " 'vit_large_patch14_clip_336.laion2b_ft_in12k_in1k',\n",
       " 'vit_large_patch14_clip_336.openai',\n",
       " 'vit_large_patch14_clip_336.openai_ft_in12k_in1k',\n",
       " 'vit_large_patch14_clip_quickgelu_224.dfn2b',\n",
       " 'vit_large_patch14_clip_quickgelu_224.metaclip_2pt5b',\n",
       " 'vit_large_patch14_clip_quickgelu_224.openai',\n",
       " 'vit_large_patch14_clip_quickgelu_336.openai',\n",
       " 'vit_large_patch14_dinov2.lvd142m',\n",
       " 'vit_large_patch14_reg4_dinov2.lvd142m',\n",
       " 'vit_large_patch16_224.augreg_in21k',\n",
       " 'vit_large_patch16_224.augreg_in21k_ft_in1k',\n",
       " 'vit_large_patch16_224.mae',\n",
       " 'vit_large_patch16_224.orig_in21k',\n",
       " 'vit_large_patch16_384.augreg_in21k_ft_in1k',\n",
       " 'vit_large_patch16_siglip_256.webli',\n",
       " 'vit_large_patch16_siglip_384.webli',\n",
       " 'vit_large_patch32_224.orig_in21k',\n",
       " 'vit_large_patch32_384.orig_in21k_ft_in1k',\n",
       " 'vit_large_r50_s32_224.augreg_in21k',\n",
       " 'vit_large_r50_s32_224.augreg_in21k_ft_in1k',\n",
       " 'vit_large_r50_s32_384.augreg_in21k_ft_in1k',\n",
       " 'vit_medium_patch16_gap_240.sw_in12k',\n",
       " 'vit_medium_patch16_gap_256.sw_in12k_ft_in1k',\n",
       " 'vit_medium_patch16_gap_384.sw_in12k_ft_in1k',\n",
       " 'vit_relpos_base_patch16_224.sw_in1k',\n",
       " 'vit_relpos_base_patch16_clsgap_224.sw_in1k',\n",
       " 'vit_relpos_base_patch32_plus_rpn_256.sw_in1k',\n",
       " 'vit_relpos_medium_patch16_224.sw_in1k',\n",
       " 'vit_relpos_medium_patch16_cls_224.sw_in1k',\n",
       " 'vit_relpos_medium_patch16_rpn_224.sw_in1k',\n",
       " 'vit_relpos_small_patch16_224.sw_in1k',\n",
       " 'vit_small_patch8_224.dino',\n",
       " 'vit_small_patch14_dinov2.lvd142m',\n",
       " 'vit_small_patch14_reg4_dinov2.lvd142m',\n",
       " 'vit_small_patch16_224.augreg_in1k',\n",
       " 'vit_small_patch16_224.augreg_in21k',\n",
       " 'vit_small_patch16_224.augreg_in21k_ft_in1k',\n",
       " 'vit_small_patch16_224.dino',\n",
       " 'vit_small_patch16_384.augreg_in1k',\n",
       " 'vit_small_patch16_384.augreg_in21k_ft_in1k',\n",
       " 'vit_small_patch32_224.augreg_in21k',\n",
       " 'vit_small_patch32_224.augreg_in21k_ft_in1k',\n",
       " 'vit_small_patch32_384.augreg_in21k_ft_in1k',\n",
       " 'vit_small_r26_s32_224.augreg_in21k',\n",
       " 'vit_small_r26_s32_224.augreg_in21k_ft_in1k',\n",
       " 'vit_small_r26_s32_384.augreg_in21k_ft_in1k',\n",
       " 'vit_so400m_patch14_siglip_224.webli',\n",
       " 'vit_so400m_patch14_siglip_384.webli',\n",
       " 'vit_srelpos_medium_patch16_224.sw_in1k',\n",
       " 'vit_srelpos_small_patch16_224.sw_in1k',\n",
       " 'vit_tiny_patch16_224.augreg_in21k',\n",
       " 'vit_tiny_patch16_224.augreg_in21k_ft_in1k',\n",
       " 'vit_tiny_patch16_384.augreg_in21k_ft_in1k',\n",
       " 'vit_tiny_r_s16_p8_224.augreg_in21k',\n",
       " 'vit_tiny_r_s16_p8_224.augreg_in21k_ft_in1k',\n",
       " 'vit_tiny_r_s16_p8_384.augreg_in21k_ft_in1k']"
      ]
     },
     "execution_count": 4,
     "metadata": {},
     "output_type": "execute_result"
    }
   ],
   "source": [
    "timm.list_models(\"vit*\",pretrained=True)"
   ]
  },
  {
   "cell_type": "code",
   "execution_count": 5,
   "id": "74786df7-2cd6-443a-92c7-92023d69277c",
   "metadata": {},
   "outputs": [],
   "source": [
    "class embeddings(nn.Module):\n",
    "    def __init__(self, backbone=\"resnet18\", input_size=(1,3,224,224)):\n",
    "        super().__init__()\n",
    "\n",
    "        \n",
    "        # Create a backbone network from the pretrained models provided in torchvision.models \n",
    "        if backbone in torchvision.models.__dict__:\n",
    "            self.backbone=create_body(torchvision.models.__dict__[backbone](pretrained=True, progress=True),pretrained=True, n_in=3, cut=-2)\n",
    "        elif backbone in timm.list_models(pretrained=True):\n",
    "            self.backbone=create_body(timm.create_model(backbone,pretrained=True),pretrained=True, n_in=3,cut=-2)\n",
    "        else:\n",
    "            raise Exception(\"No model named {} exists in torchvision.models or timm models.\".format(backbone))\n",
    "                  \n",
    "        \n",
    "        self.flatten=nn.Flatten()\n",
    "\n",
    "        self.encoder=nn.Sequential(\n",
    "            self.backbone,\n",
    "            self.flatten\n",
    "        )\n",
    "\n",
    "        self.flattened_features=self.encoder(torch.rand(input_size)).shape[1]\n",
    " \n",
    "        self.last_block=nn.Sequential(\n",
    "            nn.Linear(self.flattened_features,1024),\n",
    "            nn.ReLU(inplace=True)\n",
    "            #nn.BatchNorm1d(1024)\n",
    "        )\n",
    "        \n",
    "        self.fc = nn.Sequential(\n",
    "            nn.Linear(2048, 1),\n",
    "            nn.Sigmoid()\n",
    "        )\n",
    "        \n",
    "    def forward(self,x):\n",
    "        return(self.last_block(self.encoder(x)))\n",
    "\n",
    "    def comparator(self,input1,target):\n",
    "        \n",
    "        output = torch.cat((input1, target), dim=1)\n",
    "        output = self.fc(output)\n",
    "        return output"
   ]
  },
  {
   "cell_type": "markdown",
   "id": "c8183873-35af-42ce-a651-2dd3836ed96b",
   "metadata": {},
   "source": [
    "### Contrastive Loss"
   ]
  },
  {
   "cell_type": "code",
   "execution_count": 6,
   "id": "baf2ae46-8f42-4efe-988a-6d2dc969b77f",
   "metadata": {},
   "outputs": [],
   "source": [
    "class ContrastiveLoss(torch.nn.Module):\n",
    "\n",
    "    def __init__(self, margin=1.0):\n",
    "        super(ContrastiveLoss, self).__init__()\n",
    "        self.margin = margin\n",
    "\n",
    "    def forward(self, input1, input2, y):\n",
    "        diff = input1 - input2\n",
    "        dist_sq = torch.sum(torch.pow(diff, 2), 1)\n",
    "        dist = torch.sqrt(dist_sq)\n",
    "        mdist = self.margin - dist\n",
    "        dist = torch.clamp(mdist, min=0.0)\n",
    "        loss = y * dist_sq + (1 - y) * torch.pow(dist, 2)\n",
    "        loss = torch.sum(loss) / 2.0 / input1.size()[0]\n",
    "        return loss"
   ]
  },
  {
   "cell_type": "markdown",
   "id": "67935a8a-64a9-4a84-9f83-e55ed63f11d2",
   "metadata": {},
   "source": [
    "### Model and Optimizer"
   ]
  },
  {
   "cell_type": "code",
   "execution_count": 32,
   "id": "37695e98-a1fb-4e00-8bec-b5ebdf404ef9",
   "metadata": {},
   "outputs": [],
   "source": [
    "model = embeddings()\n",
    "model.to(device)\n",
    "\n",
    "optimizer = torch.optim.Adam(model.parameters(), lr=0.001)\n",
    "criterion = ContrastiveLoss()"
   ]
  },
  {
   "cell_type": "code",
   "execution_count": 33,
   "id": "ec60f91e-e2f7-45b5-a525-19eaef0fb569",
   "metadata": {},
   "outputs": [],
   "source": [
    "count=0\n",
    "for layer in model.parameters():\n",
    "    count+=1"
   ]
  },
  {
   "cell_type": "code",
   "execution_count": 34,
   "id": "00c250e1-6a37-47d7-8f2d-c5b4c6eb7a7a",
   "metadata": {},
   "outputs": [
    {
     "name": "stdout",
     "output_type": "stream",
     "text": [
      "64\n"
     ]
    }
   ],
   "source": [
    "print(count)"
   ]
  },
  {
   "cell_type": "code",
   "execution_count": 35,
   "id": "934da59d-1ba9-409d-8f65-a898fb1de095",
   "metadata": {},
   "outputs": [
    {
     "data": {
      "text/plain": [
       "===========================================================================\n",
       "Layer (type:depth-idx)                             Param #\n",
       "===========================================================================\n",
       "embeddings                                         --\n",
       "├─Sequential: 1-1                                  --\n",
       "│    └─Conv2d: 2-1                                 9,408\n",
       "│    └─BatchNorm2d: 2-2                            128\n",
       "│    └─ReLU: 2-3                                   --\n",
       "│    └─MaxPool2d: 2-4                              --\n",
       "│    └─Sequential: 2-5                             --\n",
       "│    │    └─BasicBlock: 3-1                        73,984\n",
       "│    │    └─BasicBlock: 3-2                        73,984\n",
       "│    └─Sequential: 2-6                             --\n",
       "│    │    └─BasicBlock: 3-3                        230,144\n",
       "│    │    └─BasicBlock: 3-4                        295,424\n",
       "│    └─Sequential: 2-7                             --\n",
       "│    │    └─BasicBlock: 3-5                        919,040\n",
       "│    │    └─BasicBlock: 3-6                        1,180,672\n",
       "│    └─Sequential: 2-8                             --\n",
       "│    │    └─BasicBlock: 3-7                        3,673,088\n",
       "│    │    └─BasicBlock: 3-8                        4,720,640\n",
       "├─Flatten: 1-2                                     --\n",
       "├─Sequential: 1-3                                  11,176,512\n",
       "│    └─Sequential: 2-9                             (recursive)\n",
       "│    │    └─Conv2d: 3-9                            (recursive)\n",
       "│    │    └─BatchNorm2d: 3-10                      (recursive)\n",
       "│    │    └─ReLU: 3-11                             --\n",
       "│    │    └─MaxPool2d: 3-12                        --\n",
       "│    │    └─Sequential: 3-13                       (recursive)\n",
       "│    │    └─Sequential: 3-14                       (recursive)\n",
       "│    │    └─Sequential: 3-15                       (recursive)\n",
       "│    │    └─Sequential: 3-16                       (recursive)\n",
       "│    └─Flatten: 2-10                               --\n",
       "├─Sequential: 1-4                                  --\n",
       "│    └─Linear: 2-11                                25,691,136\n",
       "│    └─ReLU: 2-12                                  --\n",
       "├─Sequential: 1-5                                  --\n",
       "│    └─Linear: 2-13                                2,049\n",
       "│    └─Sigmoid: 2-14                               --\n",
       "===========================================================================\n",
       "Total params: 48,046,209\n",
       "Trainable params: 48,046,209\n",
       "Non-trainable params: 0\n",
       "==========================================================================="
      ]
     },
     "execution_count": 35,
     "metadata": {},
     "output_type": "execute_result"
    }
   ],
   "source": [
    "summary(model)"
   ]
  },
  {
   "cell_type": "code",
   "execution_count": 36,
   "id": "cd25a60d-a093-409d-a899-2d1a8d5062d9",
   "metadata": {},
   "outputs": [],
   "source": [
    "count=0\n",
    "for layer in model.parameters():\n",
    "    if(count==61):\n",
    "        break\n",
    "    layer.requires_grad=False\n",
    "    count+=1"
   ]
  },
  {
   "cell_type": "code",
   "execution_count": 37,
   "id": "57fc4af7-8f59-4944-8faf-6f571a41d1ce",
   "metadata": {},
   "outputs": [
    {
     "data": {
      "text/plain": [
       "===========================================================================\n",
       "Layer (type:depth-idx)                             Param #\n",
       "===========================================================================\n",
       "embeddings                                         --\n",
       "├─Sequential: 1-1                                  --\n",
       "│    └─Conv2d: 2-1                                 (9,408)\n",
       "│    └─BatchNorm2d: 2-2                            (128)\n",
       "│    └─ReLU: 2-3                                   --\n",
       "│    └─MaxPool2d: 2-4                              --\n",
       "│    └─Sequential: 2-5                             --\n",
       "│    │    └─BasicBlock: 3-1                        (73,984)\n",
       "│    │    └─BasicBlock: 3-2                        (73,984)\n",
       "│    └─Sequential: 2-6                             --\n",
       "│    │    └─BasicBlock: 3-3                        (230,144)\n",
       "│    │    └─BasicBlock: 3-4                        (295,424)\n",
       "│    └─Sequential: 2-7                             --\n",
       "│    │    └─BasicBlock: 3-5                        (919,040)\n",
       "│    │    └─BasicBlock: 3-6                        (1,180,672)\n",
       "│    └─Sequential: 2-8                             --\n",
       "│    │    └─BasicBlock: 3-7                        (3,673,088)\n",
       "│    │    └─BasicBlock: 3-8                        (4,720,640)\n",
       "├─Flatten: 1-2                                     --\n",
       "├─Sequential: 1-3                                  11,176,512\n",
       "│    └─Sequential: 2-9                             (recursive)\n",
       "│    │    └─Conv2d: 3-9                            (recursive)\n",
       "│    │    └─BatchNorm2d: 3-10                      (recursive)\n",
       "│    │    └─ReLU: 3-11                             --\n",
       "│    │    └─MaxPool2d: 3-12                        --\n",
       "│    │    └─Sequential: 3-13                       (recursive)\n",
       "│    │    └─Sequential: 3-14                       (recursive)\n",
       "│    │    └─Sequential: 3-15                       (recursive)\n",
       "│    │    └─Sequential: 3-16                       (recursive)\n",
       "│    └─Flatten: 2-10                               --\n",
       "├─Sequential: 1-4                                  --\n",
       "│    └─Linear: 2-11                                25,691,136\n",
       "│    └─ReLU: 2-12                                  --\n",
       "├─Sequential: 1-5                                  --\n",
       "│    └─Linear: 2-13                                2,049\n",
       "│    └─Sigmoid: 2-14                               --\n",
       "===========================================================================\n",
       "Total params: 48,046,209\n",
       "Trainable params: 3,073\n",
       "Non-trainable params: 48,043,136\n",
       "==========================================================================="
      ]
     },
     "execution_count": 37,
     "metadata": {},
     "output_type": "execute_result"
    }
   ],
   "source": [
    "summary(model)"
   ]
  },
  {
   "cell_type": "markdown",
   "id": "8f6efe90-b577-43da-b79d-b9122b1cf2ec",
   "metadata": {},
   "source": [
    "### Training Loop"
   ]
  },
  {
   "cell_type": "code",
   "execution_count": 38,
   "id": "e7917ac9-f62e-4faf-8669-9cf0d394f555",
   "metadata": {},
   "outputs": [
    {
     "data": {
      "text/plain": [
       "30607"
      ]
     },
     "execution_count": 38,
     "metadata": {},
     "output_type": "execute_result"
    }
   ],
   "source": [
    "len(train_dataset)"
   ]
  },
  {
   "cell_type": "code",
   "execution_count": 39,
   "id": "aabbcb6a-b105-4d67-a35a-ef89837944f8",
   "metadata": {
    "scrolled": true
   },
   "outputs": [
    {
     "data": {
      "application/vnd.jupyter.widget-view+json": {
       "model_id": "e36369953535430fb4fd34a7afd104f6",
       "version_major": 2,
       "version_minor": 0
      },
      "text/plain": [
       "  0%|          | 0/50 [00:00<?, ?it/s]"
      ]
     },
     "metadata": {},
     "output_type": "display_data"
    },
    {
     "name": "stdout",
     "output_type": "stream",
     "text": [
      "[0 / 50]\n"
     ]
    },
    {
     "data": {
      "application/vnd.jupyter.widget-view+json": {
       "model_id": "de3aa78f085145dba9a4b6f93608b3ab",
       "version_major": 2,
       "version_minor": 0
      },
      "text/plain": [
       "Trianing:   0%|          | 0/956 [00:00<?, ?it/s]"
      ]
     },
     "metadata": {},
     "output_type": "display_data"
    },
    {
     "name": "stdout",
     "output_type": "stream",
     "text": [
      "\tTraining: Loss=2250.17\n"
     ]
    },
    {
     "data": {
      "application/vnd.jupyter.widget-view+json": {
       "model_id": "ed5067e6b1254f4ead5d5eb735062f8d",
       "version_major": 2,
       "version_minor": 0
      },
      "text/plain": [
       "Validation:   0%|          | 0/6 [00:00<?, ?it/s]"
      ]
     },
     "metadata": {},
     "output_type": "display_data"
    },
    {
     "name": "stdout",
     "output_type": "stream",
     "text": [
      "\tValidation: Loss=1226.04\n",
      "[1 / 50]\n"
     ]
    },
    {
     "data": {
      "application/vnd.jupyter.widget-view+json": {
       "model_id": "cc5ad13c0db24f078b095ff203071545",
       "version_major": 2,
       "version_minor": 0
      },
      "text/plain": [
       "Trianing:   0%|          | 0/956 [00:00<?, ?it/s]"
      ]
     },
     "metadata": {},
     "output_type": "display_data"
    },
    {
     "name": "stdout",
     "output_type": "stream",
     "text": [
      "\tTraining: Loss=647.15\n"
     ]
    },
    {
     "data": {
      "application/vnd.jupyter.widget-view+json": {
       "model_id": "7ffc4ffc6ea541a6a1dbc9029ff3dd9d",
       "version_major": 2,
       "version_minor": 0
      },
      "text/plain": [
       "Validation:   0%|          | 0/6 [00:00<?, ?it/s]"
      ]
     },
     "metadata": {},
     "output_type": "display_data"
    },
    {
     "name": "stdout",
     "output_type": "stream",
     "text": [
      "\tValidation: Loss=361.09\n",
      "[2 / 50]\n"
     ]
    },
    {
     "data": {
      "application/vnd.jupyter.widget-view+json": {
       "model_id": "801a9081a5e04834b02eb1ae2fcc08ab",
       "version_major": 2,
       "version_minor": 0
      },
      "text/plain": [
       "Trianing:   0%|          | 0/956 [00:00<?, ?it/s]"
      ]
     },
     "metadata": {},
     "output_type": "display_data"
    },
    {
     "name": "stdout",
     "output_type": "stream",
     "text": [
      "\tTraining: Loss=215.86\n"
     ]
    },
    {
     "data": {
      "application/vnd.jupyter.widget-view+json": {
       "model_id": "b5308653ad1b440787c5aa481260e7b3",
       "version_major": 2,
       "version_minor": 0
      },
      "text/plain": [
       "Validation:   0%|          | 0/6 [00:00<?, ?it/s]"
      ]
     },
     "metadata": {},
     "output_type": "display_data"
    },
    {
     "name": "stdout",
     "output_type": "stream",
     "text": [
      "\tValidation: Loss=155.65\n",
      "[3 / 50]\n"
     ]
    },
    {
     "data": {
      "application/vnd.jupyter.widget-view+json": {
       "model_id": "724a018c7067461699b0aff454569dc9",
       "version_major": 2,
       "version_minor": 0
      },
      "text/plain": [
       "Trianing:   0%|          | 0/956 [00:00<?, ?it/s]"
      ]
     },
     "metadata": {},
     "output_type": "display_data"
    },
    {
     "name": "stdout",
     "output_type": "stream",
     "text": [
      "\tTraining: Loss=91.08\n"
     ]
    },
    {
     "data": {
      "application/vnd.jupyter.widget-view+json": {
       "model_id": "b906bcb9da654bf59aa2fc42ef897ca2",
       "version_major": 2,
       "version_minor": 0
      },
      "text/plain": [
       "Validation:   0%|          | 0/6 [00:00<?, ?it/s]"
      ]
     },
     "metadata": {},
     "output_type": "display_data"
    },
    {
     "name": "stdout",
     "output_type": "stream",
     "text": [
      "\tValidation: Loss=75.72\n",
      "[4 / 50]\n"
     ]
    },
    {
     "data": {
      "application/vnd.jupyter.widget-view+json": {
       "model_id": "321eac34f5614636ab2ddd924467c107",
       "version_major": 2,
       "version_minor": 0
      },
      "text/plain": [
       "Trianing:   0%|          | 0/956 [00:00<?, ?it/s]"
      ]
     },
     "metadata": {},
     "output_type": "display_data"
    },
    {
     "name": "stdout",
     "output_type": "stream",
     "text": [
      "\tTraining: Loss=44.48\n"
     ]
    },
    {
     "data": {
      "application/vnd.jupyter.widget-view+json": {
       "model_id": "8db79453f4ab45c39def56948413856e",
       "version_major": 2,
       "version_minor": 0
      },
      "text/plain": [
       "Validation:   0%|          | 0/6 [00:00<?, ?it/s]"
      ]
     },
     "metadata": {},
     "output_type": "display_data"
    },
    {
     "name": "stdout",
     "output_type": "stream",
     "text": [
      "\tValidation: Loss=40.47\n",
      "[5 / 50]\n"
     ]
    },
    {
     "data": {
      "application/vnd.jupyter.widget-view+json": {
       "model_id": "624e9f83ed904619b6df7f3311b981bd",
       "version_major": 2,
       "version_minor": 0
      },
      "text/plain": [
       "Trianing:   0%|          | 0/956 [00:00<?, ?it/s]"
      ]
     },
     "metadata": {},
     "output_type": "display_data"
    },
    {
     "name": "stdout",
     "output_type": "stream",
     "text": [
      "\tTraining: Loss=24.23\n"
     ]
    },
    {
     "data": {
      "application/vnd.jupyter.widget-view+json": {
       "model_id": "dbe414e3f4d04d38b8cc2549859b8a56",
       "version_major": 2,
       "version_minor": 0
      },
      "text/plain": [
       "Validation:   0%|          | 0/6 [00:00<?, ?it/s]"
      ]
     },
     "metadata": {},
     "output_type": "display_data"
    },
    {
     "name": "stdout",
     "output_type": "stream",
     "text": [
      "\tValidation: Loss=24.06\n",
      "[6 / 50]\n"
     ]
    },
    {
     "data": {
      "application/vnd.jupyter.widget-view+json": {
       "model_id": "5810640d2b63485fa2187a84c367e2a8",
       "version_major": 2,
       "version_minor": 0
      },
      "text/plain": [
       "Trianing:   0%|          | 0/956 [00:00<?, ?it/s]"
      ]
     },
     "metadata": {},
     "output_type": "display_data"
    },
    {
     "name": "stdout",
     "output_type": "stream",
     "text": [
      "\tTraining: Loss=14.70\n"
     ]
    },
    {
     "data": {
      "application/vnd.jupyter.widget-view+json": {
       "model_id": "0f575039c992424b9faa755195cd63ed",
       "version_major": 2,
       "version_minor": 0
      },
      "text/plain": [
       "Validation:   0%|          | 0/6 [00:00<?, ?it/s]"
      ]
     },
     "metadata": {},
     "output_type": "display_data"
    },
    {
     "name": "stdout",
     "output_type": "stream",
     "text": [
      "\tValidation: Loss=15.20\n",
      "[7 / 50]\n"
     ]
    },
    {
     "data": {
      "application/vnd.jupyter.widget-view+json": {
       "model_id": "a42575e91e364944a468bce9b095c838",
       "version_major": 2,
       "version_minor": 0
      },
      "text/plain": [
       "Trianing:   0%|          | 0/956 [00:00<?, ?it/s]"
      ]
     },
     "metadata": {},
     "output_type": "display_data"
    },
    {
     "name": "stdout",
     "output_type": "stream",
     "text": [
      "\tTraining: Loss=10.26\n"
     ]
    },
    {
     "data": {
      "application/vnd.jupyter.widget-view+json": {
       "model_id": "ff9a4c97ee4c4831bc9f38c9c52c83bd",
       "version_major": 2,
       "version_minor": 0
      },
      "text/plain": [
       "Validation:   0%|          | 0/6 [00:00<?, ?it/s]"
      ]
     },
     "metadata": {},
     "output_type": "display_data"
    },
    {
     "name": "stdout",
     "output_type": "stream",
     "text": [
      "\tValidation: Loss=11.96\n",
      "[8 / 50]\n"
     ]
    },
    {
     "data": {
      "application/vnd.jupyter.widget-view+json": {
       "model_id": "be754a1d763449c08d80c5477f860e6a",
       "version_major": 2,
       "version_minor": 0
      },
      "text/plain": [
       "Trianing:   0%|          | 0/956 [00:00<?, ?it/s]"
      ]
     },
     "metadata": {},
     "output_type": "display_data"
    },
    {
     "name": "stdout",
     "output_type": "stream",
     "text": [
      "\tTraining: Loss=8.23\n"
     ]
    },
    {
     "data": {
      "application/vnd.jupyter.widget-view+json": {
       "model_id": "78762940e3eb4c5c9beb8275f9ad7b5f",
       "version_major": 2,
       "version_minor": 0
      },
      "text/plain": [
       "Validation:   0%|          | 0/6 [00:00<?, ?it/s]"
      ]
     },
     "metadata": {},
     "output_type": "display_data"
    },
    {
     "name": "stdout",
     "output_type": "stream",
     "text": [
      "\tValidation: Loss=10.74\n",
      "[9 / 50]\n"
     ]
    },
    {
     "data": {
      "application/vnd.jupyter.widget-view+json": {
       "model_id": "17355840e4824259a158fe337af0abc2",
       "version_major": 2,
       "version_minor": 0
      },
      "text/plain": [
       "Trianing:   0%|          | 0/956 [00:00<?, ?it/s]"
      ]
     },
     "metadata": {},
     "output_type": "display_data"
    },
    {
     "name": "stdout",
     "output_type": "stream",
     "text": [
      "\tTraining: Loss=7.27\n"
     ]
    },
    {
     "data": {
      "application/vnd.jupyter.widget-view+json": {
       "model_id": "47230050a6564988a2abad6ff13cda53",
       "version_major": 2,
       "version_minor": 0
      },
      "text/plain": [
       "Validation:   0%|          | 0/6 [00:00<?, ?it/s]"
      ]
     },
     "metadata": {},
     "output_type": "display_data"
    },
    {
     "name": "stdout",
     "output_type": "stream",
     "text": [
      "\tValidation: Loss=8.33\n",
      "[10 / 50]\n"
     ]
    },
    {
     "data": {
      "application/vnd.jupyter.widget-view+json": {
       "model_id": "aae47563c00343d9b5943a3e1f087c32",
       "version_major": 2,
       "version_minor": 0
      },
      "text/plain": [
       "Trianing:   0%|          | 0/956 [00:00<?, ?it/s]"
      ]
     },
     "metadata": {},
     "output_type": "display_data"
    },
    {
     "name": "stdout",
     "output_type": "stream",
     "text": [
      "\tTraining: Loss=6.88\n"
     ]
    },
    {
     "data": {
      "application/vnd.jupyter.widget-view+json": {
       "model_id": "2c1d5de2f23a440fa75b0bbfda808953",
       "version_major": 2,
       "version_minor": 0
      },
      "text/plain": [
       "Validation:   0%|          | 0/6 [00:00<?, ?it/s]"
      ]
     },
     "metadata": {},
     "output_type": "display_data"
    },
    {
     "name": "stdout",
     "output_type": "stream",
     "text": [
      "\tValidation: Loss=8.69\n",
      "[11 / 50]\n"
     ]
    },
    {
     "data": {
      "application/vnd.jupyter.widget-view+json": {
       "model_id": "3adc4120689f40bdb2a0980bbcf61cc2",
       "version_major": 2,
       "version_minor": 0
      },
      "text/plain": [
       "Trianing:   0%|          | 0/956 [00:00<?, ?it/s]"
      ]
     },
     "metadata": {},
     "output_type": "display_data"
    },
    {
     "name": "stdout",
     "output_type": "stream",
     "text": [
      "\tTraining: Loss=6.71\n"
     ]
    },
    {
     "data": {
      "application/vnd.jupyter.widget-view+json": {
       "model_id": "173fcdc2caf84e09ab264e6780d0958a",
       "version_major": 2,
       "version_minor": 0
      },
      "text/plain": [
       "Validation:   0%|          | 0/6 [00:00<?, ?it/s]"
      ]
     },
     "metadata": {},
     "output_type": "display_data"
    },
    {
     "name": "stdout",
     "output_type": "stream",
     "text": [
      "\tValidation: Loss=7.73\n",
      "[12 / 50]\n"
     ]
    },
    {
     "data": {
      "application/vnd.jupyter.widget-view+json": {
       "model_id": "2c4e8494c23440e081562e9a6e9c157e",
       "version_major": 2,
       "version_minor": 0
      },
      "text/plain": [
       "Trianing:   0%|          | 0/956 [00:00<?, ?it/s]"
      ]
     },
     "metadata": {},
     "output_type": "display_data"
    },
    {
     "name": "stdout",
     "output_type": "stream",
     "text": [
      "\tTraining: Loss=6.61\n"
     ]
    },
    {
     "data": {
      "application/vnd.jupyter.widget-view+json": {
       "model_id": "b7fdbd28b43e4d3b84989ae7a1945c15",
       "version_major": 2,
       "version_minor": 0
      },
      "text/plain": [
       "Validation:   0%|          | 0/6 [00:00<?, ?it/s]"
      ]
     },
     "metadata": {},
     "output_type": "display_data"
    },
    {
     "name": "stdout",
     "output_type": "stream",
     "text": [
      "\tValidation: Loss=7.36\n",
      "[13 / 50]\n"
     ]
    },
    {
     "data": {
      "application/vnd.jupyter.widget-view+json": {
       "model_id": "6d0790d3a9904e1c830d576c1e6c215b",
       "version_major": 2,
       "version_minor": 0
      },
      "text/plain": [
       "Trianing:   0%|          | 0/956 [00:00<?, ?it/s]"
      ]
     },
     "metadata": {},
     "output_type": "display_data"
    },
    {
     "name": "stdout",
     "output_type": "stream",
     "text": [
      "\tTraining: Loss=6.55\n"
     ]
    },
    {
     "data": {
      "application/vnd.jupyter.widget-view+json": {
       "model_id": "1fa5b0865050422797ddf42a6f40ffbd",
       "version_major": 2,
       "version_minor": 0
      },
      "text/plain": [
       "Validation:   0%|          | 0/6 [00:00<?, ?it/s]"
      ]
     },
     "metadata": {},
     "output_type": "display_data"
    },
    {
     "name": "stdout",
     "output_type": "stream",
     "text": [
      "\tValidation: Loss=8.03\n",
      "[14 / 50]\n"
     ]
    },
    {
     "data": {
      "application/vnd.jupyter.widget-view+json": {
       "model_id": "78b2277aa61141eb8d83fa98d8e0de87",
       "version_major": 2,
       "version_minor": 0
      },
      "text/plain": [
       "Trianing:   0%|          | 0/956 [00:00<?, ?it/s]"
      ]
     },
     "metadata": {},
     "output_type": "display_data"
    },
    {
     "name": "stdout",
     "output_type": "stream",
     "text": [
      "\tTraining: Loss=6.48\n"
     ]
    },
    {
     "data": {
      "application/vnd.jupyter.widget-view+json": {
       "model_id": "0d6ab3e0ca0449378bf95a206f36f24f",
       "version_major": 2,
       "version_minor": 0
      },
      "text/plain": [
       "Validation:   0%|          | 0/6 [00:00<?, ?it/s]"
      ]
     },
     "metadata": {},
     "output_type": "display_data"
    },
    {
     "name": "stdout",
     "output_type": "stream",
     "text": [
      "\tValidation: Loss=7.59\n",
      "[15 / 50]\n"
     ]
    },
    {
     "data": {
      "application/vnd.jupyter.widget-view+json": {
       "model_id": "f37ab4ef9ff64f2e8630235491ecc25c",
       "version_major": 2,
       "version_minor": 0
      },
      "text/plain": [
       "Trianing:   0%|          | 0/956 [00:00<?, ?it/s]"
      ]
     },
     "metadata": {},
     "output_type": "display_data"
    },
    {
     "name": "stdout",
     "output_type": "stream",
     "text": [
      "\tTraining: Loss=6.44\n"
     ]
    },
    {
     "data": {
      "application/vnd.jupyter.widget-view+json": {
       "model_id": "d2bff5f0bbe84ad2a08f722a2cd2e6dd",
       "version_major": 2,
       "version_minor": 0
      },
      "text/plain": [
       "Validation:   0%|          | 0/6 [00:00<?, ?it/s]"
      ]
     },
     "metadata": {},
     "output_type": "display_data"
    },
    {
     "name": "stdout",
     "output_type": "stream",
     "text": [
      "\tValidation: Loss=7.27\n",
      "[16 / 50]\n"
     ]
    },
    {
     "data": {
      "application/vnd.jupyter.widget-view+json": {
       "model_id": "43239dc1224b4d678c1c95fc61d65df3",
       "version_major": 2,
       "version_minor": 0
      },
      "text/plain": [
       "Trianing:   0%|          | 0/956 [00:00<?, ?it/s]"
      ]
     },
     "metadata": {},
     "output_type": "display_data"
    },
    {
     "name": "stdout",
     "output_type": "stream",
     "text": [
      "\tTraining: Loss=6.43\n"
     ]
    },
    {
     "data": {
      "application/vnd.jupyter.widget-view+json": {
       "model_id": "e47c554fc90d4968b96ba320cb28c9df",
       "version_major": 2,
       "version_minor": 0
      },
      "text/plain": [
       "Validation:   0%|          | 0/6 [00:00<?, ?it/s]"
      ]
     },
     "metadata": {},
     "output_type": "display_data"
    },
    {
     "name": "stdout",
     "output_type": "stream",
     "text": [
      "\tValidation: Loss=7.27\n",
      "[17 / 50]\n"
     ]
    },
    {
     "data": {
      "application/vnd.jupyter.widget-view+json": {
       "model_id": "8216441c52a54536a8f887301c30c4fc",
       "version_major": 2,
       "version_minor": 0
      },
      "text/plain": [
       "Trianing:   0%|          | 0/956 [00:00<?, ?it/s]"
      ]
     },
     "metadata": {},
     "output_type": "display_data"
    },
    {
     "ename": "KeyboardInterrupt",
     "evalue": "",
     "output_type": "error",
     "traceback": [
      "\u001b[0;31m---------------------------------------------------------------------------\u001b[0m",
      "\u001b[0;31mKeyboardInterrupt\u001b[0m                         Traceback (most recent call last)",
      "Cell \u001b[0;32mIn[39], line 12\u001b[0m\n\u001b[1;32m      8\u001b[0m total \u001b[38;5;241m=\u001b[39m \u001b[38;5;241m0\u001b[39m\n\u001b[1;32m     11\u001b[0m \u001b[38;5;66;03m# Training Loop Start\u001b[39;00m\n\u001b[0;32m---> 12\u001b[0m \u001b[43m\u001b[49m\u001b[38;5;28;43;01mfor\u001b[39;49;00m\u001b[43m \u001b[49m\u001b[43m(\u001b[49m\u001b[43mimg1\u001b[49m\u001b[43m,\u001b[49m\u001b[43m \u001b[49m\u001b[43mimg2\u001b[49m\u001b[43m)\u001b[49m\u001b[43m,\u001b[49m\u001b[43m \u001b[49m\u001b[43my\u001b[49m\u001b[43m,\u001b[49m\u001b[43m \u001b[49m\u001b[43m(\u001b[49m\u001b[43mclass1\u001b[49m\u001b[43m,\u001b[49m\u001b[43m \u001b[49m\u001b[43mclass2\u001b[49m\u001b[43m)\u001b[49m\u001b[43m \u001b[49m\u001b[38;5;129;43;01min\u001b[39;49;00m\u001b[43m \u001b[49m\u001b[43mtqdm_notebook\u001b[49m\u001b[43m(\u001b[49m\u001b[43mtrain_dataloader\u001b[49m\u001b[43m,\u001b[49m\u001b[43mdesc\u001b[49m\u001b[38;5;241;43m=\u001b[39;49m\u001b[38;5;124;43m\"\u001b[39;49m\u001b[38;5;124;43mTrianing\u001b[39;49m\u001b[38;5;124;43m\"\u001b[39;49m\u001b[43m)\u001b[49m\u001b[43m:\u001b[49m\n\u001b[1;32m     14\u001b[0m \u001b[43m    \u001b[49m\u001b[43mimg1\u001b[49m\u001b[43m,\u001b[49m\u001b[43m \u001b[49m\u001b[43mimg2\u001b[49m\u001b[43m,\u001b[49m\u001b[43m \u001b[49m\u001b[43my\u001b[49m\u001b[43m \u001b[49m\u001b[38;5;241;43m=\u001b[39;49m\u001b[43m \u001b[49m\u001b[38;5;28;43mmap\u001b[39;49m\u001b[43m(\u001b[49m\u001b[38;5;28;43;01mlambda\u001b[39;49;00m\u001b[43m \u001b[49m\u001b[43mx\u001b[49m\u001b[43m:\u001b[49m\u001b[43m \u001b[49m\u001b[43mx\u001b[49m\u001b[38;5;241;43m.\u001b[39;49m\u001b[43mto\u001b[49m\u001b[43m(\u001b[49m\u001b[43mdevice\u001b[49m\u001b[43m)\u001b[49m\u001b[43m,\u001b[49m\u001b[43m \u001b[49m\u001b[43m[\u001b[49m\u001b[43mimg1\u001b[49m\u001b[43m,\u001b[49m\u001b[43m \u001b[49m\u001b[43mimg2\u001b[49m\u001b[43m,\u001b[49m\u001b[43m \u001b[49m\u001b[43my\u001b[49m\u001b[43m]\u001b[49m\u001b[43m)\u001b[49m\n\u001b[1;32m     16\u001b[0m \u001b[43m    \u001b[49m\u001b[43memb1\u001b[49m\u001b[43m \u001b[49m\u001b[38;5;241;43m=\u001b[39;49m\u001b[43m \u001b[49m\u001b[43mmodel\u001b[49m\u001b[43m(\u001b[49m\u001b[43mimg1\u001b[49m\u001b[43m)\u001b[49m\n",
      "File \u001b[0;32m~/miniconda3/envs/torch/lib/python3.11/site-packages/tqdm/notebook.py:249\u001b[0m, in \u001b[0;36mtqdm_notebook.__iter__\u001b[0;34m(self)\u001b[0m\n\u001b[1;32m    247\u001b[0m \u001b[38;5;28;01mtry\u001b[39;00m:\n\u001b[1;32m    248\u001b[0m     it \u001b[38;5;241m=\u001b[39m \u001b[38;5;28msuper\u001b[39m(tqdm_notebook, \u001b[38;5;28mself\u001b[39m)\u001b[38;5;241m.\u001b[39m\u001b[38;5;21m__iter__\u001b[39m()\n\u001b[0;32m--> 249\u001b[0m \u001b[43m    \u001b[49m\u001b[38;5;28;43;01mfor\u001b[39;49;00m\u001b[43m \u001b[49m\u001b[43mobj\u001b[49m\u001b[43m \u001b[49m\u001b[38;5;129;43;01min\u001b[39;49;00m\u001b[43m \u001b[49m\u001b[43mit\u001b[49m\u001b[43m:\u001b[49m\n\u001b[1;32m    250\u001b[0m \u001b[43m        \u001b[49m\u001b[38;5;66;43;03m# return super(tqdm...) will not catch exception\u001b[39;49;00m\n\u001b[1;32m    251\u001b[0m \u001b[43m        \u001b[49m\u001b[38;5;28;43;01myield\u001b[39;49;00m\u001b[43m \u001b[49m\u001b[43mobj\u001b[49m\n\u001b[1;32m    252\u001b[0m \u001b[38;5;66;03m# NB: except ... [ as ...] breaks IPython async KeyboardInterrupt\u001b[39;00m\n",
      "File \u001b[0;32m~/miniconda3/envs/torch/lib/python3.11/site-packages/tqdm/std.py:1182\u001b[0m, in \u001b[0;36mtqdm.__iter__\u001b[0;34m(self)\u001b[0m\n\u001b[1;32m   1179\u001b[0m time \u001b[38;5;241m=\u001b[39m \u001b[38;5;28mself\u001b[39m\u001b[38;5;241m.\u001b[39m_time\n\u001b[1;32m   1181\u001b[0m \u001b[38;5;28;01mtry\u001b[39;00m:\n\u001b[0;32m-> 1182\u001b[0m \u001b[43m    \u001b[49m\u001b[38;5;28;43;01mfor\u001b[39;49;00m\u001b[43m \u001b[49m\u001b[43mobj\u001b[49m\u001b[43m \u001b[49m\u001b[38;5;129;43;01min\u001b[39;49;00m\u001b[43m \u001b[49m\u001b[43miterable\u001b[49m\u001b[43m:\u001b[49m\n\u001b[1;32m   1183\u001b[0m \u001b[43m        \u001b[49m\u001b[38;5;28;43;01myield\u001b[39;49;00m\u001b[43m \u001b[49m\u001b[43mobj\u001b[49m\n\u001b[1;32m   1184\u001b[0m \u001b[43m        \u001b[49m\u001b[38;5;66;43;03m# Update and possibly print the progressbar.\u001b[39;49;00m\n\u001b[1;32m   1185\u001b[0m \u001b[43m        \u001b[49m\u001b[38;5;66;43;03m# Note: does not call self.update(1) for speed optimisation.\u001b[39;49;00m\n",
      "File \u001b[0;32m~/miniconda3/envs/torch/lib/python3.11/site-packages/torch/utils/data/dataloader.py:630\u001b[0m, in \u001b[0;36m_BaseDataLoaderIter.__next__\u001b[0;34m(self)\u001b[0m\n\u001b[1;32m    627\u001b[0m \u001b[38;5;28;01mif\u001b[39;00m \u001b[38;5;28mself\u001b[39m\u001b[38;5;241m.\u001b[39m_sampler_iter \u001b[38;5;129;01mis\u001b[39;00m \u001b[38;5;28;01mNone\u001b[39;00m:\n\u001b[1;32m    628\u001b[0m     \u001b[38;5;66;03m# TODO(https://github.com/pytorch/pytorch/issues/76750)\u001b[39;00m\n\u001b[1;32m    629\u001b[0m     \u001b[38;5;28mself\u001b[39m\u001b[38;5;241m.\u001b[39m_reset()  \u001b[38;5;66;03m# type: ignore[call-arg]\u001b[39;00m\n\u001b[0;32m--> 630\u001b[0m data \u001b[38;5;241m=\u001b[39m \u001b[38;5;28;43mself\u001b[39;49m\u001b[38;5;241;43m.\u001b[39;49m\u001b[43m_next_data\u001b[49m\u001b[43m(\u001b[49m\u001b[43m)\u001b[49m\n\u001b[1;32m    631\u001b[0m \u001b[38;5;28mself\u001b[39m\u001b[38;5;241m.\u001b[39m_num_yielded \u001b[38;5;241m+\u001b[39m\u001b[38;5;241m=\u001b[39m \u001b[38;5;241m1\u001b[39m\n\u001b[1;32m    632\u001b[0m \u001b[38;5;28;01mif\u001b[39;00m \u001b[38;5;28mself\u001b[39m\u001b[38;5;241m.\u001b[39m_dataset_kind \u001b[38;5;241m==\u001b[39m _DatasetKind\u001b[38;5;241m.\u001b[39mIterable \u001b[38;5;129;01mand\u001b[39;00m \\\n\u001b[1;32m    633\u001b[0m         \u001b[38;5;28mself\u001b[39m\u001b[38;5;241m.\u001b[39m_IterableDataset_len_called \u001b[38;5;129;01mis\u001b[39;00m \u001b[38;5;129;01mnot\u001b[39;00m \u001b[38;5;28;01mNone\u001b[39;00m \u001b[38;5;129;01mand\u001b[39;00m \\\n\u001b[1;32m    634\u001b[0m         \u001b[38;5;28mself\u001b[39m\u001b[38;5;241m.\u001b[39m_num_yielded \u001b[38;5;241m>\u001b[39m \u001b[38;5;28mself\u001b[39m\u001b[38;5;241m.\u001b[39m_IterableDataset_len_called:\n",
      "File \u001b[0;32m~/miniconda3/envs/torch/lib/python3.11/site-packages/torch/utils/data/dataloader.py:674\u001b[0m, in \u001b[0;36m_SingleProcessDataLoaderIter._next_data\u001b[0;34m(self)\u001b[0m\n\u001b[1;32m    672\u001b[0m \u001b[38;5;28;01mdef\u001b[39;00m \u001b[38;5;21m_next_data\u001b[39m(\u001b[38;5;28mself\u001b[39m):\n\u001b[1;32m    673\u001b[0m     index \u001b[38;5;241m=\u001b[39m \u001b[38;5;28mself\u001b[39m\u001b[38;5;241m.\u001b[39m_next_index()  \u001b[38;5;66;03m# may raise StopIteration\u001b[39;00m\n\u001b[0;32m--> 674\u001b[0m     data \u001b[38;5;241m=\u001b[39m \u001b[38;5;28;43mself\u001b[39;49m\u001b[38;5;241;43m.\u001b[39;49m\u001b[43m_dataset_fetcher\u001b[49m\u001b[38;5;241;43m.\u001b[39;49m\u001b[43mfetch\u001b[49m\u001b[43m(\u001b[49m\u001b[43mindex\u001b[49m\u001b[43m)\u001b[49m  \u001b[38;5;66;03m# may raise StopIteration\u001b[39;00m\n\u001b[1;32m    675\u001b[0m     \u001b[38;5;28;01mif\u001b[39;00m \u001b[38;5;28mself\u001b[39m\u001b[38;5;241m.\u001b[39m_pin_memory:\n\u001b[1;32m    676\u001b[0m         data \u001b[38;5;241m=\u001b[39m _utils\u001b[38;5;241m.\u001b[39mpin_memory\u001b[38;5;241m.\u001b[39mpin_memory(data, \u001b[38;5;28mself\u001b[39m\u001b[38;5;241m.\u001b[39m_pin_memory_device)\n",
      "File \u001b[0;32m~/miniconda3/envs/torch/lib/python3.11/site-packages/torch/utils/data/_utils/fetch.py:32\u001b[0m, in \u001b[0;36m_IterableDatasetFetcher.fetch\u001b[0;34m(self, possibly_batched_index)\u001b[0m\n\u001b[1;32m     30\u001b[0m \u001b[38;5;28;01mfor\u001b[39;00m _ \u001b[38;5;129;01min\u001b[39;00m possibly_batched_index:\n\u001b[1;32m     31\u001b[0m     \u001b[38;5;28;01mtry\u001b[39;00m:\n\u001b[0;32m---> 32\u001b[0m         data\u001b[38;5;241m.\u001b[39mappend(\u001b[38;5;28mnext\u001b[39m(\u001b[38;5;28mself\u001b[39m\u001b[38;5;241m.\u001b[39mdataset_iter))\n\u001b[1;32m     33\u001b[0m     \u001b[38;5;28;01mexcept\u001b[39;00m \u001b[38;5;167;01mStopIteration\u001b[39;00m:\n\u001b[1;32m     34\u001b[0m         \u001b[38;5;28mself\u001b[39m\u001b[38;5;241m.\u001b[39mended \u001b[38;5;241m=\u001b[39m \u001b[38;5;28;01mTrue\u001b[39;00m\n",
      "Cell \u001b[0;32mIn[2], line 94\u001b[0m, in \u001b[0;36mDataset.__iter__\u001b[0;34m(self)\u001b[0m\n\u001b[1;32m     91\u001b[0m class1 \u001b[38;5;241m=\u001b[39m \u001b[38;5;28mself\u001b[39m\u001b[38;5;241m.\u001b[39mimage_classes[idx]\n\u001b[1;32m     92\u001b[0m class2 \u001b[38;5;241m=\u001b[39m \u001b[38;5;28mself\u001b[39m\u001b[38;5;241m.\u001b[39mimage_classes[idx2]\n\u001b[0;32m---> 94\u001b[0m image1 \u001b[38;5;241m=\u001b[39m \u001b[43mImage\u001b[49m\u001b[38;5;241;43m.\u001b[39;49m\u001b[43mopen\u001b[49m\u001b[43m(\u001b[49m\u001b[43mimage_path1\u001b[49m\u001b[43m)\u001b[49m\u001b[38;5;241;43m.\u001b[39;49m\u001b[43mconvert\u001b[49m\u001b[43m(\u001b[49m\u001b[38;5;124;43m\"\u001b[39;49m\u001b[38;5;124;43mRGB\u001b[39;49m\u001b[38;5;124;43m\"\u001b[39;49m\u001b[43m)\u001b[49m\n\u001b[1;32m     95\u001b[0m image2 \u001b[38;5;241m=\u001b[39m Image\u001b[38;5;241m.\u001b[39mopen(image_path2)\u001b[38;5;241m.\u001b[39mconvert(\u001b[38;5;124m\"\u001b[39m\u001b[38;5;124mRGB\u001b[39m\u001b[38;5;124m\"\u001b[39m)\n\u001b[1;32m     97\u001b[0m \u001b[38;5;28;01mif\u001b[39;00m \u001b[38;5;28mself\u001b[39m\u001b[38;5;241m.\u001b[39mtransform:\n",
      "File \u001b[0;32m~/miniconda3/envs/torch/lib/python3.11/site-packages/PIL/Image.py:911\u001b[0m, in \u001b[0;36mImage.convert\u001b[0;34m(self, mode, matrix, dither, palette, colors)\u001b[0m\n\u001b[1;32m    863\u001b[0m \u001b[38;5;28;01mdef\u001b[39;00m \u001b[38;5;21mconvert\u001b[39m(\n\u001b[1;32m    864\u001b[0m     \u001b[38;5;28mself\u001b[39m, mode\u001b[38;5;241m=\u001b[39m\u001b[38;5;28;01mNone\u001b[39;00m, matrix\u001b[38;5;241m=\u001b[39m\u001b[38;5;28;01mNone\u001b[39;00m, dither\u001b[38;5;241m=\u001b[39m\u001b[38;5;28;01mNone\u001b[39;00m, palette\u001b[38;5;241m=\u001b[39mPalette\u001b[38;5;241m.\u001b[39mWEB, colors\u001b[38;5;241m=\u001b[39m\u001b[38;5;241m256\u001b[39m\n\u001b[1;32m    865\u001b[0m ):\n\u001b[1;32m    866\u001b[0m \u001b[38;5;250m    \u001b[39m\u001b[38;5;124;03m\"\"\"\u001b[39;00m\n\u001b[1;32m    867\u001b[0m \u001b[38;5;124;03m    Returns a converted copy of this image. For the \"P\" mode, this\u001b[39;00m\n\u001b[1;32m    868\u001b[0m \u001b[38;5;124;03m    method translates pixels through the palette.  If mode is\u001b[39;00m\n\u001b[0;32m   (...)\u001b[0m\n\u001b[1;32m    908\u001b[0m \u001b[38;5;124;03m    :returns: An :py:class:`~PIL.Image.Image` object.\u001b[39;00m\n\u001b[1;32m    909\u001b[0m \u001b[38;5;124;03m    \"\"\"\u001b[39;00m\n\u001b[0;32m--> 911\u001b[0m     \u001b[38;5;28;43mself\u001b[39;49m\u001b[38;5;241;43m.\u001b[39;49m\u001b[43mload\u001b[49m\u001b[43m(\u001b[49m\u001b[43m)\u001b[49m\n\u001b[1;32m    913\u001b[0m     has_transparency \u001b[38;5;241m=\u001b[39m \u001b[38;5;28mself\u001b[39m\u001b[38;5;241m.\u001b[39minfo\u001b[38;5;241m.\u001b[39mget(\u001b[38;5;124m\"\u001b[39m\u001b[38;5;124mtransparency\u001b[39m\u001b[38;5;124m\"\u001b[39m) \u001b[38;5;129;01mis\u001b[39;00m \u001b[38;5;129;01mnot\u001b[39;00m \u001b[38;5;28;01mNone\u001b[39;00m\n\u001b[1;32m    914\u001b[0m     \u001b[38;5;28;01mif\u001b[39;00m \u001b[38;5;129;01mnot\u001b[39;00m mode \u001b[38;5;129;01mand\u001b[39;00m \u001b[38;5;28mself\u001b[39m\u001b[38;5;241m.\u001b[39mmode \u001b[38;5;241m==\u001b[39m \u001b[38;5;124m\"\u001b[39m\u001b[38;5;124mP\u001b[39m\u001b[38;5;124m\"\u001b[39m:\n\u001b[1;32m    915\u001b[0m         \u001b[38;5;66;03m# determine default mode\u001b[39;00m\n",
      "File \u001b[0;32m~/miniconda3/envs/torch/lib/python3.11/site-packages/PIL/ImageFile.py:269\u001b[0m, in \u001b[0;36mImageFile.load\u001b[0;34m(self)\u001b[0m\n\u001b[1;32m    266\u001b[0m         \u001b[38;5;28;01mraise\u001b[39;00m \u001b[38;5;167;01mOSError\u001b[39;00m(msg)\n\u001b[1;32m    268\u001b[0m b \u001b[38;5;241m=\u001b[39m b \u001b[38;5;241m+\u001b[39m s\n\u001b[0;32m--> 269\u001b[0m n, err_code \u001b[38;5;241m=\u001b[39m \u001b[43mdecoder\u001b[49m\u001b[38;5;241;43m.\u001b[39;49m\u001b[43mdecode\u001b[49m\u001b[43m(\u001b[49m\u001b[43mb\u001b[49m\u001b[43m)\u001b[49m\n\u001b[1;32m    270\u001b[0m \u001b[38;5;28;01mif\u001b[39;00m n \u001b[38;5;241m<\u001b[39m \u001b[38;5;241m0\u001b[39m:\n\u001b[1;32m    271\u001b[0m     \u001b[38;5;28;01mbreak\u001b[39;00m\n",
      "\u001b[0;31mKeyboardInterrupt\u001b[0m: "
     ]
    }
   ],
   "source": [
    "for epoch in tqdm_notebook(range(50)):\n",
    "        print(\"[{} / {}]\".format(epoch, 50))\n",
    "        model.train()\n",
    "\n",
    "        losses = []\n",
    "        \n",
    "        correct = 0\n",
    "        total = 0\n",
    "\n",
    "\n",
    "        # Training Loop Start\n",
    "        for (img1, img2), y, (class1, class2) in tqdm_notebook(train_dataloader,desc=\"Trianing\"):\n",
    "    \n",
    "            img1, img2, y = map(lambda x: x.to(device), [img1, img2, y])\n",
    "\n",
    "            emb1 = model(img1)\n",
    "            emb2 = model(img2)\n",
    "            loss = criterion(emb1, emb2, y)\n",
    "    \n",
    "            optimizer.zero_grad()\n",
    "            loss.backward()\n",
    "            optimizer.step()\n",
    "    \n",
    "            losses.append(loss.item())\n",
    "            total += len(y)\n",
    "    \n",
    "    \n",
    "        print(\"\\tTraining: Loss={:.2f}\".format(sum(losses)/len(losses)))\n",
    "        # Training Loop End\n",
    "\n",
    "        # Evaluation Loop Start\n",
    "        model.eval()\n",
    "\n",
    "        losses = []\n",
    "        correct = 0\n",
    "        total = 0\n",
    "    \n",
    "        for (img1, img2), y, (class1, class2) in tqdm_notebook(val_dataloader, desc=\"Validation\"):\n",
    "            try:\n",
    "                img1, img2, y = map(lambda x: x.to(device), [img1, img2, y])\n",
    "    \n",
    "                emb1 = model(img1)\n",
    "                ebm2 = model(img2)\n",
    "                #print(emb1.shape,emb2.shape)\n",
    "                loss = criterion(emb1, emb2, y)\n",
    "    \n",
    "                losses.append(loss.item())\n",
    "                total += len(y)\n",
    "            except Exception as e:\n",
    "                #print(e)\n",
    "                continue\n",
    "\n",
    "        val_loss = sum(losses)/max(1, len(losses))\n",
    "        \n",
    "        print(\"\\tValidation: Loss={:.2f}\".format(val_loss))\n",
    "        # Evaluation Loop End\n"
   ]
  },
  {
   "cell_type": "code",
   "execution_count": 40,
   "id": "e072d12a-b33e-42a4-b303-c7d034881c4c",
   "metadata": {},
   "outputs": [],
   "source": [
    "torch.save(model.state_dict(),\"weights.pt\")"
   ]
  },
  {
   "cell_type": "markdown",
   "id": "5a1a9862-1e9c-4c14-8072-ea98157ace31",
   "metadata": {},
   "source": [
    "### Testing the model"
   ]
  },
  {
   "cell_type": "code",
   "execution_count": 41,
   "id": "fed6853a-6c23-45a3-bd6d-cbf8fe26a002",
   "metadata": {},
   "outputs": [],
   "source": [
    "def test_model(image_path1,image_path2):\n",
    "    img1=Image.open(image_path1)\n",
    "    img2=Image.open(image_path2)\n",
    "\n",
    "    feed_shape = [3, 224, 224]\n",
    "    \n",
    "    transform = transforms.Compose([\n",
    "        transforms.Normalize(mean=[0.485, 0.456, 0.406], std=[0.229, 0.224, 0.225]),\n",
    "        transforms.Resize(feed_shape[1:])\n",
    "    ])\n",
    "\n",
    "    convert=transforms.PILToTensor()\n",
    "\n",
    "    img1=transform(convert(img1).type(torch.float32)).to(device)\n",
    "    img2=transform(convert(img2).type(torch.float32)).to(device)\n",
    "\n",
    "    img1=img1.unsqueeze(dim=0)\n",
    "    img2=img2.unsqueeze(dim=0)\n",
    "\n",
    "    print(img1.shape,img2.shape)\n",
    "    \n",
    "    input1=model(img1)\n",
    "    input2=model(img2)\n",
    "\n",
    "    diff = input1 - input2\n",
    "    dist_sq = torch.sum(torch.pow(diff, 2), 1)\n",
    "    dist = torch.sqrt(dist_sq)\n",
    "    \n",
    "    print(dist)"
   ]
  },
  {
   "cell_type": "code",
   "execution_count": 42,
   "id": "6706af75-ed95-45f7-950d-abb8647ebd06",
   "metadata": {},
   "outputs": [
    {
     "name": "stdout",
     "output_type": "stream",
     "text": [
      "torch.Size([1, 3, 224, 224]) torch.Size([1, 3, 224, 224])\n",
      "tensor([0.], device='cuda:0', grad_fn=<SqrtBackward0>)\n"
     ]
    }
   ],
   "source": [
    "test_model(\"../DATASET/val/WALLET 2/WhatsApp Image 2024-04-07 at 16.11.40_2396d0c2.jpg\",\"../DATASET/val/WALLET 2/WhatsApp Image 2024-04-07 at 16.11.39_f9f764e9.jpg\")"
   ]
  },
  {
   "cell_type": "code",
   "execution_count": 43,
   "id": "3f3ef655-da8e-4993-af5c-6d03a9c89b6b",
   "metadata": {},
   "outputs": [
    {
     "name": "stdout",
     "output_type": "stream",
     "text": [
      "torch.Size([1, 3, 224, 224]) torch.Size([1, 3, 224, 224])\n",
      "tensor([0.1969], device='cuda:0', grad_fn=<SqrtBackward0>)\n"
     ]
    }
   ],
   "source": [
    "test_model(\"../DATASET/val/WALLET 2/WhatsApp Image 2024-04-07 at 16.11.40_2396d0c2.jpg\",\"../DATASET/val/PEN4/WhatsApp Image 2024-04-08 at 00.12.30_41c732d4.jpg\")"
   ]
  },
  {
   "cell_type": "code",
   "execution_count": 44,
   "id": "7bf1c4a2-d5eb-4dbc-80f0-d2c54fa6e159",
   "metadata": {},
   "outputs": [
    {
     "name": "stdout",
     "output_type": "stream",
     "text": [
      "torch.Size([1, 3, 224, 224]) torch.Size([1, 3, 224, 224])\n",
      "tensor([0.], device='cuda:0', grad_fn=<SqrtBackward0>)\n"
     ]
    }
   ],
   "source": [
    "test_model(\"../DATASET/val/WALLET 2/WhatsApp Image 2024-04-07 at 16.11.40_2396d0c2.jpg\",\"../DATASET/val/LAPTOP CHARGER/WhatsApp Image 2024-04-07 at 16.35.44_ec9ce85c.jpg\")"
   ]
  },
  {
   "cell_type": "code",
   "execution_count": 46,
   "id": "2498631b-d54a-485d-9ac1-6f359dee5f44",
   "metadata": {},
   "outputs": [
    {
     "name": "stdout",
     "output_type": "stream",
     "text": [
      "torch.Size([1, 3, 224, 224]) torch.Size([1, 3, 224, 224])\n",
      "tensor([0.0727], device='cuda:0', grad_fn=<SqrtBackward0>)\n"
     ]
    }
   ],
   "source": [
    "test_model(\"../DATASET/val/WALLET 2/WhatsApp Image 2024-04-07 at 16.11.40_2396d0c2.jpg\",\"../DATASET/val/WALLET/WhatsApp Image 2024-04-08 at 00.08.28_97faa39b.jpg\")"
   ]
  },
  {
   "cell_type": "code",
   "execution_count": 47,
   "id": "738b4e7e-029d-4796-83f6-01ffc20b6cc2",
   "metadata": {},
   "outputs": [
    {
     "name": "stdout",
     "output_type": "stream",
     "text": [
      "torch.Size([1, 3, 224, 224]) torch.Size([1, 3, 224, 224])\n",
      "tensor([0.], device='cuda:0', grad_fn=<SqrtBackward0>)\n"
     ]
    }
   ],
   "source": [
    "test_model(\"../DATASET/val/METAL BOTTLE/WhatsApp Image 2024-04-07 at 16.11.53_a66a4d7b.jpg\",\"../DATASET/val/METAL BOTTLE/WhatsApp Image 2024-04-08 at 00.12.47_6dd4f8b8.jpg\")"
   ]
  },
  {
   "cell_type": "code",
   "execution_count": 48,
   "id": "f3d0d344-b26a-4afd-97f1-f028d3514b5c",
   "metadata": {},
   "outputs": [
    {
     "name": "stdout",
     "output_type": "stream",
     "text": [
      "torch.Size([1, 3, 224, 224]) torch.Size([1, 3, 224, 224])\n",
      "tensor([0.], device='cuda:0', grad_fn=<SqrtBackward0>)\n"
     ]
    }
   ],
   "source": [
    "test_model(\"../DATASET/val/METAL BOTTLE/WhatsApp Image 2024-04-07 at 16.11.53_a66a4d7b.jpg\",\"../DATASET/val/PLASTIC BOTTLE/WhatsApp Image 2024-04-07 at 16.11.52_6516f3f0.jpg\")"
   ]
  },
  {
   "cell_type": "code",
   "execution_count": 49,
   "id": "894d8631-c5cb-4835-871a-7c56126a9fcf",
   "metadata": {},
   "outputs": [
    {
     "name": "stdout",
     "output_type": "stream",
     "text": [
      "torch.Size([1, 3, 224, 224]) torch.Size([1, 3, 224, 224])\n",
      "tensor([0.3175], device='cuda:0', grad_fn=<SqrtBackward0>)\n"
     ]
    }
   ],
   "source": [
    "test_model(\"../DATASET/val/LAPTOP CHARGER/WhatsApp Image 2024-04-07 at 16.35.43_6673c8d1.jpg\",\"../DATASET/val/PLASTIC BOTTLE/WhatsApp Image 2024-04-07 at 16.11.52_6516f3f0.jpg\")"
   ]
  },
  {
   "cell_type": "code",
   "execution_count": 50,
   "id": "e22bb8d9-4854-46b3-8e6e-88106ce6a813",
   "metadata": {},
   "outputs": [
    {
     "name": "stdout",
     "output_type": "stream",
     "text": [
      "torch.Size([1, 3, 224, 224]) torch.Size([1, 3, 224, 224])\n",
      "tensor([0.3175], device='cuda:0', grad_fn=<SqrtBackward0>)\n"
     ]
    }
   ],
   "source": [
    "test_model(\"../DATASET/val/LAPTOP CHARGER/WhatsApp Image 2024-04-07 at 16.35.43_6673c8d1.jpg\",\"../DATASET/val/HEADPHONES/WhatsApp Image 2024-04-07 at 16.11.04_428e33f8.jpg\")"
   ]
  },
  {
   "cell_type": "code",
   "execution_count": 51,
   "id": "3bf30c01-a081-42a5-b04a-67c29ec90253",
   "metadata": {},
   "outputs": [
    {
     "name": "stdout",
     "output_type": "stream",
     "text": [
      "torch.Size([1, 3, 224, 224]) torch.Size([1, 3, 224, 224])\n",
      "tensor([0.], device='cuda:0', grad_fn=<SqrtBackward0>)\n"
     ]
    }
   ],
   "source": [
    "test_model(\"../DATASET/val/LAPTOP CHARGER/WhatsApp Image 2024-04-07 at 16.35.43_6673c8d1.jpg\",\"../DATASET/val/LAPTOP CHARGER/WhatsApp Image 2024-04-07 at 16.35.43_6673c8d1.jpg\")"
   ]
  },
  {
   "cell_type": "code",
   "execution_count": 52,
   "id": "99955b2f-8b07-4092-9517-30cd55c2f6ae",
   "metadata": {},
   "outputs": [
    {
     "name": "stdout",
     "output_type": "stream",
     "text": [
      "torch.Size([1, 3, 224, 224]) torch.Size([1, 3, 224, 224])\n",
      "tensor([0.3175], device='cuda:0', grad_fn=<SqrtBackward0>)\n"
     ]
    }
   ],
   "source": [
    "test_model(\"../DATASET/val/LAPTOP CHARGER/WhatsApp Image 2024-04-07 at 16.35.43_6673c8d1.jpg\",\"../DATASET/val/MOBILE CHARGER/WhatsApp Image 2024-04-07 at 16.11.48_60059a4a.jpg\")"
   ]
  },
  {
   "cell_type": "code",
   "execution_count": null,
   "id": "7906dcae-a5fc-49da-8b33-48857b2dbcc9",
   "metadata": {},
   "outputs": [],
   "source": []
  }
 ],
 "metadata": {
  "kernelspec": {
   "display_name": "Python 3 (ipykernel)",
   "language": "python",
   "name": "python3"
  },
  "language_info": {
   "codemirror_mode": {
    "name": "ipython",
    "version": 3
   },
   "file_extension": ".py",
   "mimetype": "text/x-python",
   "name": "python",
   "nbconvert_exporter": "python",
   "pygments_lexer": "ipython3",
   "version": "3.11.5"
  }
 },
 "nbformat": 4,
 "nbformat_minor": 5
}
