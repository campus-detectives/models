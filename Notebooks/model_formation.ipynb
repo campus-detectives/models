{
 "cells": [
  {
   "cell_type": "code",
   "execution_count": 12,
   "id": "f568eca8-187c-4654-9f00-ae70084e70ec",
   "metadata": {},
   "outputs": [],
   "source": [
    "from torch import nn\n",
    "import torch\n",
    "import torchvision\n",
    "import timm\n",
    "import cv2"
   ]
  },
  {
   "cell_type": "code",
   "execution_count": 7,
   "id": "433b3766-d233-451f-8148-ba8a05ef8c1f",
   "metadata": {
    "scrolled": true
   },
   "outputs": [
    {
     "data": {
      "text/plain": [
       "['vit_base_patch8_224.augreg2_in21k_ft_in1k',\n",
       " 'vit_base_patch8_224.augreg_in21k',\n",
       " 'vit_base_patch8_224.augreg_in21k_ft_in1k',\n",
       " 'vit_base_patch8_224.dino',\n",
       " 'vit_base_patch14_dinov2.lvd142m',\n",
       " 'vit_base_patch14_reg4_dinov2.lvd142m',\n",
       " 'vit_base_patch16_224.augreg2_in21k_ft_in1k',\n",
       " 'vit_base_patch16_224.augreg_in1k',\n",
       " 'vit_base_patch16_224.augreg_in21k',\n",
       " 'vit_base_patch16_224.augreg_in21k_ft_in1k',\n",
       " 'vit_base_patch16_224.dino',\n",
       " 'vit_base_patch16_224.mae',\n",
       " 'vit_base_patch16_224.orig_in21k',\n",
       " 'vit_base_patch16_224.orig_in21k_ft_in1k',\n",
       " 'vit_base_patch16_224.sam_in1k',\n",
       " 'vit_base_patch16_224_miil.in21k',\n",
       " 'vit_base_patch16_224_miil.in21k_ft_in1k',\n",
       " 'vit_base_patch16_384.augreg_in1k',\n",
       " 'vit_base_patch16_384.augreg_in21k_ft_in1k',\n",
       " 'vit_base_patch16_384.orig_in21k_ft_in1k',\n",
       " 'vit_base_patch16_clip_224.datacompxl',\n",
       " 'vit_base_patch16_clip_224.dfn2b',\n",
       " 'vit_base_patch16_clip_224.laion2b',\n",
       " 'vit_base_patch16_clip_224.laion2b_ft_in1k',\n",
       " 'vit_base_patch16_clip_224.laion2b_ft_in12k',\n",
       " 'vit_base_patch16_clip_224.laion2b_ft_in12k_in1k',\n",
       " 'vit_base_patch16_clip_224.metaclip_2pt5b',\n",
       " 'vit_base_patch16_clip_224.openai',\n",
       " 'vit_base_patch16_clip_224.openai_ft_in1k',\n",
       " 'vit_base_patch16_clip_224.openai_ft_in12k',\n",
       " 'vit_base_patch16_clip_224.openai_ft_in12k_in1k',\n",
       " 'vit_base_patch16_clip_384.laion2b_ft_in1k',\n",
       " 'vit_base_patch16_clip_384.laion2b_ft_in12k_in1k',\n",
       " 'vit_base_patch16_clip_384.openai_ft_in1k',\n",
       " 'vit_base_patch16_clip_384.openai_ft_in12k_in1k',\n",
       " 'vit_base_patch16_clip_quickgelu_224.metaclip_2pt5b',\n",
       " 'vit_base_patch16_clip_quickgelu_224.openai',\n",
       " 'vit_base_patch16_rpn_224.sw_in1k',\n",
       " 'vit_base_patch16_siglip_224.webli',\n",
       " 'vit_base_patch16_siglip_256.webli',\n",
       " 'vit_base_patch16_siglip_384.webli',\n",
       " 'vit_base_patch16_siglip_512.webli',\n",
       " 'vit_base_patch32_224.augreg_in1k',\n",
       " 'vit_base_patch32_224.augreg_in21k',\n",
       " 'vit_base_patch32_224.augreg_in21k_ft_in1k',\n",
       " 'vit_base_patch32_224.orig_in21k',\n",
       " 'vit_base_patch32_224.sam_in1k',\n",
       " 'vit_base_patch32_384.augreg_in1k',\n",
       " 'vit_base_patch32_384.augreg_in21k_ft_in1k',\n",
       " 'vit_base_patch32_clip_224.datacompxl',\n",
       " 'vit_base_patch32_clip_224.laion2b',\n",
       " 'vit_base_patch32_clip_224.laion2b_ft_in1k',\n",
       " 'vit_base_patch32_clip_224.laion2b_ft_in12k_in1k',\n",
       " 'vit_base_patch32_clip_224.metaclip_2pt5b',\n",
       " 'vit_base_patch32_clip_224.openai',\n",
       " 'vit_base_patch32_clip_224.openai_ft_in1k',\n",
       " 'vit_base_patch32_clip_256.datacompxl',\n",
       " 'vit_base_patch32_clip_384.laion2b_ft_in12k_in1k',\n",
       " 'vit_base_patch32_clip_384.openai_ft_in12k_in1k',\n",
       " 'vit_base_patch32_clip_448.laion2b_ft_in12k_in1k',\n",
       " 'vit_base_patch32_clip_quickgelu_224.metaclip_2pt5b',\n",
       " 'vit_base_patch32_clip_quickgelu_224.openai',\n",
       " 'vit_base_r50_s16_224.orig_in21k',\n",
       " 'vit_base_r50_s16_384.orig_in21k_ft_in1k',\n",
       " 'vit_giant_patch14_clip_224.laion2b',\n",
       " 'vit_giant_patch14_dinov2.lvd142m',\n",
       " 'vit_giant_patch14_reg4_dinov2.lvd142m',\n",
       " 'vit_giant_patch16_gap_224.in22k_ijepa',\n",
       " 'vit_gigantic_patch14_clip_224.laion2b',\n",
       " 'vit_huge_patch14_224.mae',\n",
       " 'vit_huge_patch14_224.orig_in21k',\n",
       " 'vit_huge_patch14_clip_224.dfn5b',\n",
       " 'vit_huge_patch14_clip_224.laion2b',\n",
       " 'vit_huge_patch14_clip_224.laion2b_ft_in1k',\n",
       " 'vit_huge_patch14_clip_224.laion2b_ft_in12k',\n",
       " 'vit_huge_patch14_clip_224.laion2b_ft_in12k_in1k',\n",
       " 'vit_huge_patch14_clip_224.metaclip_2pt5b',\n",
       " 'vit_huge_patch14_clip_336.laion2b_ft_in12k_in1k',\n",
       " 'vit_huge_patch14_clip_378.dfn5b',\n",
       " 'vit_huge_patch14_clip_quickgelu_224.dfn5b',\n",
       " 'vit_huge_patch14_clip_quickgelu_224.metaclip_2pt5b',\n",
       " 'vit_huge_patch14_clip_quickgelu_378.dfn5b',\n",
       " 'vit_huge_patch14_gap_224.in1k_ijepa',\n",
       " 'vit_huge_patch14_gap_224.in22k_ijepa',\n",
       " 'vit_huge_patch16_gap_448.in1k_ijepa',\n",
       " 'vit_large_patch14_clip_224.datacompxl',\n",
       " 'vit_large_patch14_clip_224.dfn2b',\n",
       " 'vit_large_patch14_clip_224.laion2b',\n",
       " 'vit_large_patch14_clip_224.laion2b_ft_in1k',\n",
       " 'vit_large_patch14_clip_224.laion2b_ft_in12k',\n",
       " 'vit_large_patch14_clip_224.laion2b_ft_in12k_in1k',\n",
       " 'vit_large_patch14_clip_224.metaclip_2pt5b',\n",
       " 'vit_large_patch14_clip_224.openai',\n",
       " 'vit_large_patch14_clip_224.openai_ft_in1k',\n",
       " 'vit_large_patch14_clip_224.openai_ft_in12k',\n",
       " 'vit_large_patch14_clip_224.openai_ft_in12k_in1k',\n",
       " 'vit_large_patch14_clip_336.laion2b_ft_in1k',\n",
       " 'vit_large_patch14_clip_336.laion2b_ft_in12k_in1k',\n",
       " 'vit_large_patch14_clip_336.openai',\n",
       " 'vit_large_patch14_clip_336.openai_ft_in12k_in1k',\n",
       " 'vit_large_patch14_clip_quickgelu_224.dfn2b',\n",
       " 'vit_large_patch14_clip_quickgelu_224.metaclip_2pt5b',\n",
       " 'vit_large_patch14_clip_quickgelu_224.openai',\n",
       " 'vit_large_patch14_clip_quickgelu_336.openai',\n",
       " 'vit_large_patch14_dinov2.lvd142m',\n",
       " 'vit_large_patch14_reg4_dinov2.lvd142m',\n",
       " 'vit_large_patch16_224.augreg_in21k',\n",
       " 'vit_large_patch16_224.augreg_in21k_ft_in1k',\n",
       " 'vit_large_patch16_224.mae',\n",
       " 'vit_large_patch16_224.orig_in21k',\n",
       " 'vit_large_patch16_384.augreg_in21k_ft_in1k',\n",
       " 'vit_large_patch16_siglip_256.webli',\n",
       " 'vit_large_patch16_siglip_384.webli',\n",
       " 'vit_large_patch32_224.orig_in21k',\n",
       " 'vit_large_patch32_384.orig_in21k_ft_in1k',\n",
       " 'vit_large_r50_s32_224.augreg_in21k',\n",
       " 'vit_large_r50_s32_224.augreg_in21k_ft_in1k',\n",
       " 'vit_large_r50_s32_384.augreg_in21k_ft_in1k',\n",
       " 'vit_medium_patch16_gap_240.sw_in12k',\n",
       " 'vit_medium_patch16_gap_256.sw_in12k_ft_in1k',\n",
       " 'vit_medium_patch16_gap_384.sw_in12k_ft_in1k',\n",
       " 'vit_relpos_base_patch16_224.sw_in1k',\n",
       " 'vit_relpos_base_patch16_clsgap_224.sw_in1k',\n",
       " 'vit_relpos_base_patch32_plus_rpn_256.sw_in1k',\n",
       " 'vit_relpos_medium_patch16_224.sw_in1k',\n",
       " 'vit_relpos_medium_patch16_cls_224.sw_in1k',\n",
       " 'vit_relpos_medium_patch16_rpn_224.sw_in1k',\n",
       " 'vit_relpos_small_patch16_224.sw_in1k',\n",
       " 'vit_small_patch8_224.dino',\n",
       " 'vit_small_patch14_dinov2.lvd142m',\n",
       " 'vit_small_patch14_reg4_dinov2.lvd142m',\n",
       " 'vit_small_patch16_224.augreg_in1k',\n",
       " 'vit_small_patch16_224.augreg_in21k',\n",
       " 'vit_small_patch16_224.augreg_in21k_ft_in1k',\n",
       " 'vit_small_patch16_224.dino',\n",
       " 'vit_small_patch16_384.augreg_in1k',\n",
       " 'vit_small_patch16_384.augreg_in21k_ft_in1k',\n",
       " 'vit_small_patch32_224.augreg_in21k',\n",
       " 'vit_small_patch32_224.augreg_in21k_ft_in1k',\n",
       " 'vit_small_patch32_384.augreg_in21k_ft_in1k',\n",
       " 'vit_small_r26_s32_224.augreg_in21k',\n",
       " 'vit_small_r26_s32_224.augreg_in21k_ft_in1k',\n",
       " 'vit_small_r26_s32_384.augreg_in21k_ft_in1k',\n",
       " 'vit_so400m_patch14_siglip_224.webli',\n",
       " 'vit_so400m_patch14_siglip_384.webli',\n",
       " 'vit_srelpos_medium_patch16_224.sw_in1k',\n",
       " 'vit_srelpos_small_patch16_224.sw_in1k',\n",
       " 'vit_tiny_patch16_224.augreg_in21k',\n",
       " 'vit_tiny_patch16_224.augreg_in21k_ft_in1k',\n",
       " 'vit_tiny_patch16_384.augreg_in21k_ft_in1k',\n",
       " 'vit_tiny_r_s16_p8_224.augreg_in21k',\n",
       " 'vit_tiny_r_s16_p8_224.augreg_in21k_ft_in1k',\n",
       " 'vit_tiny_r_s16_p8_384.augreg_in21k_ft_in1k']"
      ]
     },
     "execution_count": 7,
     "metadata": {},
     "output_type": "execute_result"
    }
   ],
   "source": [
    "timm.list_models(\"vit*\",pretrained=True)"
   ]
  },
  {
   "cell_type": "code",
   "execution_count": 10,
   "id": "50df3d2d-6f5c-4665-bad8-fefbe38ab772",
   "metadata": {},
   "outputs": [],
   "source": [
    "model=timm.create_model(\"vit_base_patch16_224.orig_in21k_ft_in1k\",pretrained=True,scriptable=True)"
   ]
  },
  {
   "cell_type": "code",
   "execution_count": 11,
   "id": "10d8652b-6873-4ce8-9947-639ebd6199a9",
   "metadata": {},
   "outputs": [
    {
     "data": {
      "text/plain": [
       "1000"
      ]
     },
     "execution_count": 11,
     "metadata": {},
     "output_type": "execute_result"
    }
   ],
   "source": [
    "model.num_classes"
   ]
  },
  {
   "cell_type": "code",
   "execution_count": 59,
   "id": "8668f067-d3f1-4e26-a7eb-f8f288501e01",
   "metadata": {},
   "outputs": [],
   "source": [
    "img=cv2.imread(\"./WhatsApp Image 2024-04-07 at 12.38.36 AM.jpeg\")"
   ]
  },
  {
   "cell_type": "code",
   "execution_count": 60,
   "id": "c71e6b25-e2fe-4033-b63b-c46102853589",
   "metadata": {},
   "outputs": [],
   "source": [
    "image=torch.from_numpy(img).type(torch.float32)"
   ]
  },
  {
   "cell_type": "code",
   "execution_count": 61,
   "id": "3d6c8a7a-795f-4c34-91e7-a6307562ec6f",
   "metadata": {},
   "outputs": [
    {
     "data": {
      "text/plain": [
       "torch.Size([1280, 960, 3])"
      ]
     },
     "execution_count": 61,
     "metadata": {},
     "output_type": "execute_result"
    }
   ],
   "source": [
    "image.shape"
   ]
  },
  {
   "cell_type": "code",
   "execution_count": 62,
   "id": "74238535-8a6a-42b1-9472-5431c8ce68a0",
   "metadata": {},
   "outputs": [],
   "source": [
    "image=image.permute((2,0,1))"
   ]
  },
  {
   "cell_type": "code",
   "execution_count": 63,
   "id": "cc9ad567-74df-4850-b4a2-430b7a3f1b35",
   "metadata": {},
   "outputs": [],
   "source": [
    "resize=torchvision.transforms.Resize((224,224))"
   ]
  },
  {
   "cell_type": "code",
   "execution_count": 64,
   "id": "5ec31971-dd83-4c61-adbf-d4001eefbdbf",
   "metadata": {},
   "outputs": [],
   "source": [
    "image=resize(image)"
   ]
  },
  {
   "cell_type": "code",
   "execution_count": 65,
   "id": "d84580ef-d84c-408a-9c20-ede76327190d",
   "metadata": {},
   "outputs": [],
   "source": [
    "image=image.unsqueeze(dim=0)"
   ]
  },
  {
   "cell_type": "code",
   "execution_count": 66,
   "id": "a3354c6c-659f-4dd7-b7a0-7db63235195c",
   "metadata": {},
   "outputs": [
    {
     "data": {
      "text/plain": [
       "torch.Size([1, 3, 224, 224])"
      ]
     },
     "execution_count": 66,
     "metadata": {},
     "output_type": "execute_result"
    }
   ],
   "source": [
    "image.shape"
   ]
  },
  {
   "cell_type": "code",
   "execution_count": 76,
   "id": "9b702228-4e75-4949-9c2b-f5486831694f",
   "metadata": {},
   "outputs": [
    {
     "data": {
      "text/plain": [
       "380"
      ]
     },
     "execution_count": 76,
     "metadata": {},
     "output_type": "execute_result"
    }
   ],
   "source": [
    "torch.argmax(torch.softmax(model(image),dim=1),dim=1).item()"
   ]
  },
  {
   "cell_type": "code",
   "execution_count": 84,
   "id": "f30514ad-38da-4c9a-8cf9-738747db0b49",
   "metadata": {},
   "outputs": [],
   "source": [
    "class ImageClassifier(nn.Module):\n",
    "    def __init__(self):\n",
    "        super().__init__()\n",
    "\n",
    "        self.model=timm.create_model(\"vit_base_patch16_224.orig_in21k_ft_in1k\",pretrained=True,scriptable=True)\n",
    "\n",
    "    def forward(self, x):\n",
    "        return torch.argmax(torch.softmax((self.model(x)),dim=1),dim=1).item()"
   ]
  },
  {
   "cell_type": "code",
   "execution_count": 85,
   "id": "7128d00e-0f64-4d8d-8441-e27f652b02ef",
   "metadata": {},
   "outputs": [],
   "source": [
    "m1=ImageClassifier()"
   ]
  },
  {
   "cell_type": "code",
   "execution_count": 86,
   "id": "eeea7a9b-9347-451a-90bd-b7d1b57d1026",
   "metadata": {},
   "outputs": [
    {
     "data": {
      "text/plain": [
       "380"
      ]
     },
     "execution_count": 86,
     "metadata": {},
     "output_type": "execute_result"
    }
   ],
   "source": [
    "m1(image)"
   ]
  },
  {
   "cell_type": "code",
   "execution_count": null,
   "id": "71cd16a4-7e36-4c3d-9a26-f973de88639d",
   "metadata": {},
   "outputs": [],
   "source": []
  }
 ],
 "metadata": {
  "kernelspec": {
   "display_name": "Python 3 (ipykernel)",
   "language": "python",
   "name": "python3"
  },
  "language_info": {
   "codemirror_mode": {
    "name": "ipython",
    "version": 3
   },
   "file_extension": ".py",
   "mimetype": "text/x-python",
   "name": "python",
   "nbconvert_exporter": "python",
   "pygments_lexer": "ipython3",
   "version": "3.11.5"
  }
 },
 "nbformat": 4,
 "nbformat_minor": 5
}
