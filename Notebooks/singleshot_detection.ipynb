{
 "cells": [
  {
   "cell_type": "code",
   "execution_count": 12,
   "id": "1e0f0f76-930a-43e6-a836-7123f51e818f",
   "metadata": {},
   "outputs": [],
   "source": [
    "import torch\n",
    "import torchvision\n",
    "from torch import nn\n",
    "from torchvision.models.resnet import resnet18\n",
    "from fastai.vision.learner import create_body"
   ]
  },
  {
   "cell_type": "code",
   "execution_count": 10,
   "id": "ef1f7c31-5a95-4965-9f01-645d09127a02",
   "metadata": {},
   "outputs": [],
   "source": [
    "model=create_body(resnet18(), pretrained=True, n_in=224, cut=-2)"
   ]
  },
  {
   "cell_type": "code",
   "execution_count": 13,
   "id": "9d546503-337f-4f71-a38f-93409219e477",
   "metadata": {},
   "outputs": [],
   "source": [
    "scaler=torchvision.transforms.Resize((224,224))"
   ]
  },
  {
   "cell_type": "code",
   "execution_count": 14,
   "id": "b588f192-ba79-413f-856f-4223a08e81bb",
   "metadata": {},
   "outputs": [],
   "source": [
    "class emeddings(nn.Module):\n",
    "    def __init__(self):\n",
    "        super().__init__()\n",
    "        model=create_body(resnet18(),pretrained=True, n_in=224, cut=-2)\n",
    "\n",
    "    def forward(self,x):\n",
    "        return(model(x))"
   ]
  },
  {
   "cell_type": "code",
   "execution_count": null,
   "id": "954493bc-afe0-435f-a411-65087f69c1bc",
   "metadata": {},
   "outputs": [],
   "source": [
    "class "
   ]
  },
  {
   "cell_type": "code",
   "execution_count": null,
   "id": "a9183582-8a02-4e73-b2cf-9b5fb3aa1bcc",
   "metadata": {},
   "outputs": [],
   "source": []
  }
 ],
 "metadata": {
  "kernelspec": {
   "display_name": "Python 3 (ipykernel)",
   "language": "python",
   "name": "python3"
  },
  "language_info": {
   "codemirror_mode": {
    "name": "ipython",
    "version": 3
   },
   "file_extension": ".py",
   "mimetype": "text/x-python",
   "name": "python",
   "nbconvert_exporter": "python",
   "pygments_lexer": "ipython3",
   "version": "3.11.5"
  }
 },
 "nbformat": 4,
 "nbformat_minor": 5
}
