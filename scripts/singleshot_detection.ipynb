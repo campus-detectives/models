{
 "cells": [
  {
   "cell_type": "code",
   "execution_count": 21,
   "id": "1e0f0f76-930a-43e6-a836-7123f51e818f",
   "metadata": {},
   "outputs": [],
   "source": [
    "import torch\n",
    "import torchvision\n",
    "from torch import nn\n",
    "from torchvision.models.resnet import resnet18\n",
    "from fastai.vision.learner import create_body\n",
    "import psycopg2\n",
    "import json\n",
    "import embeddings\n",
    "from PIL import Image\n",
    "import matplotlib.pyplot as plt"
   ]
  },
  {
   "cell_type": "code",
   "execution_count": 2,
   "id": "ef1f7c31-5a95-4965-9f01-645d09127a02",
   "metadata": {},
   "outputs": [],
   "source": [
    "model=embeddings.embeddings()"
   ]
  },
  {
   "cell_type": "code",
   "execution_count": 3,
   "id": "9d546503-337f-4f71-a38f-93409219e477",
   "metadata": {},
   "outputs": [],
   "source": [
    "scaler=torchvision.transforms.Resize((224,224))"
   ]
  },
  {
   "cell_type": "code",
   "execution_count": 4,
   "id": "b588f192-ba79-413f-856f-4223a08e81bb",
   "metadata": {},
   "outputs": [],
   "source": [
    "class emeddings(nn.Module):\n",
    "    def __init__(self):\n",
    "        super().__init__()\n",
    "        model=create_body(resnet18(),pretrained=True, n_in=224, cut=-2)\n",
    "\n",
    "    def forward(self,x):\n",
    "        return(model(x))"
   ]
  },
  {
   "cell_type": "code",
   "execution_count": 3,
   "id": "954493bc-afe0-435f-a411-65087f69c1bc",
   "metadata": {},
   "outputs": [
    {
     "name": "stdout",
     "output_type": "stream",
     "text": [
      "Connected to database successfully\n"
     ]
    }
   ],
   "source": [
    "try:\n",
    "    connection = psycopg2.connect(\n",
    "        dbname=\"postgres\",\n",
    "        user=\"postmoose\",\n",
    "        password=\"postmoose\",\n",
    "        host=\"localhost\"\n",
    "    )\n",
    "    print(\"Connected to database successfully\")\n",
    "except psycopg2.Error as e:\n",
    "    print(\"Unable to connect to the database:\", e)\n",
    "    \n"
   ]
  },
  {
   "cell_type": "code",
   "execution_count": 70,
   "id": "a9183582-8a02-4e73-b2cf-9b5fb3aa1bcc",
   "metadata": {},
   "outputs": [],
   "source": [
    "import numpy as np\n",
    "a1=[3,2,3,1]"
   ]
  },
  {
   "cell_type": "code",
   "execution_count": 71,
   "id": "c1966287-6a40-4b0d-939f-2d3a57b8ba82",
   "metadata": {},
   "outputs": [],
   "source": [
    "something=json.dumps(a1)"
   ]
  },
  {
   "cell_type": "code",
   "execution_count": 72,
   "id": "c5f8b074-8180-4b66-a503-56c930e26f02",
   "metadata": {},
   "outputs": [
    {
     "data": {
      "text/plain": [
       "[3, 2, 3, 1]"
      ]
     },
     "execution_count": 72,
     "metadata": {},
     "output_type": "execute_result"
    }
   ],
   "source": [
    "json.loads(something)"
   ]
  },
  {
   "cell_type": "code",
   "execution_count": 73,
   "id": "9a92904b-2816-4042-b68b-b0e98763494e",
   "metadata": {},
   "outputs": [],
   "source": [
    "t1=torch.tensor([1,2,3])"
   ]
  },
  {
   "cell_type": "code",
   "execution_count": 74,
   "id": "847dbc07-bee1-4a41-ba52-a1258b6cb90a",
   "metadata": {},
   "outputs": [
    {
     "data": {
      "text/plain": [
       "[1, 2, 3]"
      ]
     },
     "execution_count": 74,
     "metadata": {},
     "output_type": "execute_result"
    }
   ],
   "source": [
    "t1.tolist()"
   ]
  },
  {
   "cell_type": "code",
   "execution_count": 75,
   "id": "b1a04254-49b8-4aff-b02d-2af980893f58",
   "metadata": {},
   "outputs": [],
   "source": [
    "sample=torch.rand((512))"
   ]
  },
  {
   "cell_type": "code",
   "execution_count": 76,
   "id": "8caf54ec-07e1-45bd-9e47-d364ded7e2b7",
   "metadata": {},
   "outputs": [],
   "source": [
    "l1=sample.tolist()"
   ]
  },
  {
   "cell_type": "code",
   "execution_count": 77,
   "id": "4869f00c-56a3-43a2-a5a7-0f6aebfafdb6",
   "metadata": {},
   "outputs": [],
   "source": [
    "ser=json.dumps(l1)"
   ]
  },
  {
   "cell_type": "code",
   "execution_count": 5,
   "id": "44fa76ff-f131-44dd-9c2e-01de432832bd",
   "metadata": {},
   "outputs": [],
   "source": [
    "connection.set_session(autocommit=True)"
   ]
  },
  {
   "cell_type": "code",
   "execution_count": 6,
   "id": "59437b50-9a6f-4dc0-a2ca-9ea10abdc695",
   "metadata": {},
   "outputs": [],
   "source": [
    "cur = connection.cursor()"
   ]
  },
  {
   "cell_type": "code",
   "execution_count": 84,
   "id": "99c77011-d26e-4d93-b3ba-f585e7097502",
   "metadata": {},
   "outputs": [],
   "source": [
    "cur.execute(\"select * from found\")"
   ]
  },
  {
   "cell_type": "code",
   "execution_count": 99,
   "id": "7caa8610-e20a-4589-9176-1459a3dfb08b",
   "metadata": {},
   "outputs": [],
   "source": [
    "cur.execute(\"Select * FROM moose LIMIT 0\")\n",
    "colnames = [desc[0] for desc in cur.description]"
   ]
  },
  {
   "cell_type": "code",
   "execution_count": 100,
   "id": "06c22975-2b97-4cf6-bebc-c2fed495b297",
   "metadata": {},
   "outputs": [
    {
     "data": {
      "text/plain": [
       "['id', 'embedding']"
      ]
     },
     "execution_count": 100,
     "metadata": {},
     "output_type": "execute_result"
    }
   ],
   "source": [
    "colnames"
   ]
  },
  {
   "cell_type": "code",
   "execution_count": 105,
   "id": "5e0a8b1d-9750-43e1-a661-c712ab37681d",
   "metadata": {},
   "outputs": [],
   "source": [
    "cur.execute(f\"insert into moose values(1,'{ser}')\")"
   ]
  },
  {
   "cell_type": "code",
   "execution_count": 104,
   "id": "4b08cbd1-8f72-4142-a827-f327e2f027d0",
   "metadata": {},
   "outputs": [
    {
     "data": {
      "text/plain": [
       "str"
      ]
     },
     "execution_count": 104,
     "metadata": {},
     "output_type": "execute_result"
    }
   ],
   "source": [
    "type(ser)"
   ]
  },
  {
   "cell_type": "code",
   "execution_count": 108,
   "id": "75eb45d7-ca89-4ba4-82ef-3c1bc355414d",
   "metadata": {},
   "outputs": [],
   "source": [
    "cur.execute(f\"insert into moose values(2,'{ser}')\")\n",
    "cur.execute(f\"insert into moose values(3,'{ser}')\")\n",
    "cur.execute(f\"insert into moose values(4,'{ser}')\")\n",
    "cur.execute(f\"insert into moose values(5,'{ser}')\")\n",
    "cur.execute(f\"insert into moose values(6,'{ser}')\")"
   ]
  },
  {
   "cell_type": "code",
   "execution_count": 7,
   "id": "2fefa206-0fab-4f84-8c76-00f25ce612d2",
   "metadata": {
    "scrolled": true
   },
   "outputs": [],
   "source": [
    "cur.execute(f\"select * from moose\")\n",
    "val=torch.tensor(json.loads(cur.fetchall()[0][1]))"
   ]
  },
  {
   "cell_type": "code",
   "execution_count": null,
   "id": "50ebf2af-9e48-4e8e-8a76-77c33204ade7",
   "metadata": {},
   "outputs": [],
   "source": []
  },
  {
   "cell_type": "code",
   "execution_count": 33,
   "id": "8813b8c6-9c5c-4469-a1fc-04240399673f",
   "metadata": {},
   "outputs": [
    {
     "name": "stderr",
     "output_type": "stream",
     "text": [
      "/home/moose/miniconda3/envs/torch/lib/python3.11/site-packages/torchvision/transforms/functional.py:1603: UserWarning: The default value of the antialias parameter of all the resizing transforms (Resize(), RandomResizedCrop(), etc.) will change from None to True in v0.17, in order to be consistent across the PIL and Tensor backends. To suppress this warning, directly pass antialias=True (recommended, future default), antialias=None (current default, which means False for Tensors and True for PIL), or antialias=False (only works on Tensors - PIL will still use antialiasing). This also applies if you are using the inference transforms from the models weights: update the call to weights.transforms(antialias=True).\n",
      "  warnings.warn(\n"
     ]
    }
   ],
   "source": [
    "img=Image.open(\"../Notebooks/WhatsApp Image 2024-04-07 at 12.38.36 AM.jpeg\")\n",
    "\n",
    "transform = torchvision.transforms.Compose([\n",
    "torchvision.transforms.PILToTensor(),\n",
    "torchvision.transforms.Resize((224,224)),\n",
    "])\n",
    "\n",
    "img = transform(img)\n",
    "img=img.type(torch.float32)\n",
    "img=torch.unsqueeze(img,dim=0)"
   ]
  },
  {
   "cell_type": "code",
   "execution_count": 34,
   "id": "c5f6177c-f3d9-442f-bc7d-5923c5288e96",
   "metadata": {},
   "outputs": [
    {
     "data": {
      "text/plain": [
       "torch.Size([1, 3, 224, 224])"
      ]
     },
     "execution_count": 34,
     "metadata": {},
     "output_type": "execute_result"
    }
   ],
   "source": [
    "img.shape"
   ]
  },
  {
   "cell_type": "code",
   "execution_count": 51,
   "id": "ff3d88fd-bf83-495d-b83f-311ed156ba9d",
   "metadata": {},
   "outputs": [],
   "source": [
    "val1=model(img)"
   ]
  },
  {
   "cell_type": "code",
   "execution_count": 65,
   "id": "8a387bee-9239-4a0d-99c3-69a926111599",
   "metadata": {},
   "outputs": [],
   "source": [
    "val1=val1\n",
    "val2=val1*2"
   ]
  },
  {
   "cell_type": "code",
   "execution_count": 61,
   "id": "265dbdc9-4842-43de-86ec-69cc3bbeb6ba",
   "metadata": {},
   "outputs": [
    {
     "data": {
      "text/plain": [
       "torch.Size([1, 1024])"
      ]
     },
     "execution_count": 61,
     "metadata": {},
     "output_type": "execute_result"
    }
   ],
   "source": [
    "val1.shape"
   ]
  },
  {
   "cell_type": "code",
   "execution_count": 64,
   "id": "8fe57058-bbae-43ca-84f1-aec9c2b6bc26",
   "metadata": {},
   "outputs": [
    {
     "data": {
      "text/plain": [
       "torch.Size([1, 512])"
      ]
     },
     "execution_count": 64,
     "metadata": {},
     "output_type": "execute_result"
    }
   ],
   "source": [
    "torch.unsqueeze(val2,dim=0).shape"
   ]
  },
  {
   "cell_type": "code",
   "execution_count": 68,
   "id": "880fe575-b10b-44d8-aec2-44df2f375fc6",
   "metadata": {},
   "outputs": [
    {
     "data": {
      "text/plain": [
       "True"
      ]
     },
     "execution_count": 68,
     "metadata": {},
     "output_type": "execute_result"
    }
   ],
   "source": [
    "model.comparator(val1,val2).item()>0.5"
   ]
  },
  {
   "cell_type": "code",
   "execution_count": null,
   "id": "238a3903-a8bd-4d44-82be-ae420bf45b2f",
   "metadata": {},
   "outputs": [],
   "source": []
  }
 ],
 "metadata": {
  "kernelspec": {
   "display_name": "Python 3 (ipykernel)",
   "language": "python",
   "name": "python3"
  },
  "language_info": {
   "codemirror_mode": {
    "name": "ipython",
    "version": 3
   },
   "file_extension": ".py",
   "mimetype": "text/x-python",
   "name": "python",
   "nbconvert_exporter": "python",
   "pygments_lexer": "ipython3",
   "version": "3.11.5"
  }
 },
 "nbformat": 4,
 "nbformat_minor": 5
}
