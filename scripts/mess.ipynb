{
 "cells": [
  {
   "cell_type": "code",
   "execution_count": 1,
   "id": "fba50d80-d986-42b0-b7bf-4eff3f291106",
   "metadata": {},
   "outputs": [],
   "source": [
    "import embeddings\n",
    "import torch\n",
    "import psycopg2\n",
    "import json\n",
    "import torchvision\n",
    "import sys\n",
    "from PIL import Image\n",
    "import numpy as np\n",
    "from torch import nn\n",
    "from torchvision.models.resnet import resnet18\n",
    "from fastai.vision.learner import create_body"
   ]
  },
  {
   "cell_type": "code",
   "execution_count": 2,
   "id": "e70cf98f-8fcf-4e0b-a0d3-6f1afb05055b",
   "metadata": {},
   "outputs": [],
   "source": [
    "model=embeddings.embeddings()"
   ]
  },
  {
   "cell_type": "code",
   "execution_count": 3,
   "id": "eb4de4fa-2844-45fb-9661-f2a66c73695c",
   "metadata": {},
   "outputs": [
    {
     "data": {
      "text/plain": [
       "['/home/moose/miniconda3/envs/torch/lib/python3.11/site-packages/ipykernel_launcher.py',\n",
       " '-f',\n",
       " '/home/moose/.local/share/jupyter/runtime/kernel-64004715-3bbe-4975-bb04-2a508e2983d8.json']"
      ]
     },
     "execution_count": 3,
     "metadata": {},
     "output_type": "execute_result"
    }
   ],
   "source": [
    "sys.argv"
   ]
  },
  {
   "cell_type": "code",
   "execution_count": 4,
   "id": "68c7d26f-decb-41b3-9fee-48e9a1cb88fe",
   "metadata": {},
   "outputs": [],
   "source": [
    "image=Image.open(\"../Notebooks/WhatsApp Image 2024-04-07 at 12.38.36 AM.jpeg\")"
   ]
  },
  {
   "cell_type": "code",
   "execution_count": 5,
   "id": "babfd9c9-d98a-4cfd-a938-8bda8789ffa1",
   "metadata": {},
   "outputs": [
    {
     "data": {
      "text/plain": [
       "PILToTensor()"
      ]
     },
     "execution_count": 5,
     "metadata": {},
     "output_type": "execute_result"
    }
   ],
   "source": [
    "torchvision.transforms.PILToTensor()"
   ]
  },
  {
   "cell_type": "code",
   "execution_count": 6,
   "id": "31801ef2-30ed-4887-b90d-61047191ef2b",
   "metadata": {},
   "outputs": [],
   "source": [
    "transform = torchvision.transforms.Compose([\n",
    "    torchvision.transforms.PILToTensor(),\n",
    "    torchvision.transforms.Resize(224),\n",
    "])\n"
   ]
  },
  {
   "cell_type": "code",
   "execution_count": 7,
   "id": "4ca930f9-e870-4832-abf4-b39c60ba32a8",
   "metadata": {},
   "outputs": [],
   "source": [
    "model = embeddings.embeddings()\n",
    "image_emb = model(torch.rand(1,3,224,224))\n"
   ]
  },
  {
   "cell_type": "code",
   "execution_count": 8,
   "id": "8f6781e3-d327-4ddb-b160-9befdb2be6ca",
   "metadata": {},
   "outputs": [
    {
     "data": {
      "text/plain": [
       "torch.Size([1, 512, 7, 7])"
      ]
     },
     "execution_count": 8,
     "metadata": {},
     "output_type": "execute_result"
    }
   ],
   "source": [
    "image_emb.shape"
   ]
  },
  {
   "cell_type": "code",
   "execution_count": 12,
   "id": "33bc44ff-50bc-47c5-8d94-7ba6458521d1",
   "metadata": {},
   "outputs": [],
   "source": [
    "class embeddings(nn.Module):\n",
    "    def __init__(self):\n",
    "        super().__init__()\n",
    "        self.model=create_body(torchvision.models.resnet18(),pretrained=True, n_in=3, cut=-2)\n",
    "        self.flatten=nn.Flatten()\n",
    "        \n",
    "        self.encoder=nn.Sequential(\n",
    "            self.model,\n",
    "            self.flatten,\n",
    "            nn.Linear(25088,1024),\n",
    "            nn.ReLU(inplace=True)\n",
    "        )\n",
    "        \n",
    "        self.fc = nn.Sequential(\n",
    "            nn.Linear(2048, 1),\n",
    "            nn.Sigmoid()\n",
    "        )\n",
    "        \n",
    "\n",
    "\n",
    "    def forward(self,x):\n",
    "        return(self.encoder(x))\n",
    "\n",
    "    def comparator(self,input1,target):\n",
    "        \n",
    "        output = torch.cat((input1, target), dim=1)\n",
    "        output = self.fc(output)\n",
    "        return output"
   ]
  },
  {
   "cell_type": "code",
   "execution_count": 13,
   "id": "8bf44334-265d-45d6-9c7a-458a8b71c178",
   "metadata": {},
   "outputs": [],
   "source": [
    "model=embeddings()"
   ]
  },
  {
   "cell_type": "code",
   "execution_count": 15,
   "id": "01ddecbc-fc54-4647-9f03-532a47126b55",
   "metadata": {},
   "outputs": [
    {
     "data": {
      "text/plain": [
       "torch.Size([3, 1024])"
      ]
     },
     "execution_count": 15,
     "metadata": {},
     "output_type": "execute_result"
    }
   ],
   "source": [
    "model(torch.rand(3,3,224,224)).shape"
   ]
  },
  {
   "cell_type": "code",
   "execution_count": null,
   "id": "3f70df53-94f5-4579-b305-0bd538eea898",
   "metadata": {},
   "outputs": [],
   "source": []
  }
 ],
 "metadata": {
  "kernelspec": {
   "display_name": "Python 3 (ipykernel)",
   "language": "python",
   "name": "python3"
  },
  "language_info": {
   "codemirror_mode": {
    "name": "ipython",
    "version": 3
   },
   "file_extension": ".py",
   "mimetype": "text/x-python",
   "name": "python",
   "nbconvert_exporter": "python",
   "pygments_lexer": "ipython3",
   "version": "3.11.5"
  }
 },
 "nbformat": 4,
 "nbformat_minor": 5
}
