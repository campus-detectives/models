{
 "cells": [
  {
   "cell_type": "code",
   "execution_count": 17,
   "id": "fba50d80-d986-42b0-b7bf-4eff3f291106",
   "metadata": {},
   "outputs": [],
   "source": [
    "import embeddings\n",
    "import torch\n",
    "import psycopg2\n",
    "import json\n",
    "import torchvision\n",
    "import sys\n",
    "from PIL import Image\n",
    "import numpy as np"
   ]
  },
  {
   "cell_type": "code",
   "execution_count": 2,
   "id": "e70cf98f-8fcf-4e0b-a0d3-6f1afb05055b",
   "metadata": {},
   "outputs": [],
   "source": [
    "model=embeddings.embeddings()"
   ]
  },
  {
   "cell_type": "code",
   "execution_count": 8,
   "id": "eb4de4fa-2844-45fb-9661-f2a66c73695c",
   "metadata": {},
   "outputs": [
    {
     "data": {
      "text/plain": [
       "['/home/moose/miniconda3/envs/torch/lib/python3.11/site-packages/ipykernel_launcher.py',\n",
       " '-f',\n",
       " '/home/moose/.local/share/jupyter/runtime/kernel-b9c60731-80a5-4e17-a092-adaa5333f018.json']"
      ]
     },
     "execution_count": 8,
     "metadata": {},
     "output_type": "execute_result"
    }
   ],
   "source": [
    "sys.argv"
   ]
  },
  {
   "cell_type": "code",
   "execution_count": 20,
   "id": "68c7d26f-decb-41b3-9fee-48e9a1cb88fe",
   "metadata": {},
   "outputs": [],
   "source": [
    "image=Image.open(\"../Notebooks/WhatsApp Image 2024-04-07 at 12.38.36 AM.jpeg\")"
   ]
  },
  {
   "cell_type": "code",
   "execution_count": null,
   "id": "babfd9c9-d98a-4cfd-a938-8bda8789ffa1",
   "metadata": {},
   "outputs": [],
   "source": [
    "torchvision.transforms.PILToTensor()"
   ]
  },
  {
   "cell_type": "code",
   "execution_count": 25,
   "id": "31801ef2-30ed-4887-b90d-61047191ef2b",
   "metadata": {},
   "outputs": [],
   "source": [
    "transform = torchvision.transforms.Compose([\n",
    "    torchvision.transforms.PILToTensor(),\n",
    "    torchvision.transforms.Resize(224),\n",
    "])\n"
   ]
  },
  {
   "cell_type": "code",
   "execution_count": 26,
   "id": "4ca930f9-e870-4832-abf4-b39c60ba32a8",
   "metadata": {},
   "outputs": [
    {
     "name": "stderr",
     "output_type": "stream",
     "text": [
      "/home/moose/miniconda3/envs/torch/lib/python3.11/site-packages/torchvision/transforms/functional.py:1603: UserWarning: The default value of the antialias parameter of all the resizing transforms (Resize(), RandomResizedCrop(), etc.) will change from None to True in v0.17, in order to be consistent across the PIL and Tensor backends. To suppress this warning, directly pass antialias=True (recommended, future default), antialias=None (current default, which means False for Tensors and True for PIL), or antialias=False (only works on Tensors - PIL will still use antialiasing). This also applies if you are using the inference transforms from the models weights: update the call to weights.transforms(antialias=True).\n",
      "  warnings.warn(\n"
     ]
    },
    {
     "data": {
      "text/plain": [
       "tensor([[[ 21,  21,  22,  ...,  79,  78,  78],\n",
       "         [ 21,  21,  22,  ...,  79,  78,  78],\n",
       "         [ 20,  22,  22,  ...,  79,  78,  78],\n",
       "         ...,\n",
       "         [145, 144, 143,  ...,  37,  35,  37],\n",
       "         [146, 144, 144,  ...,  42,  47,  56],\n",
       "         [146, 144, 144,  ...,  61,  65,  75]],\n",
       "\n",
       "        [[ 19,  19,  20,  ...,  74,  73,  73],\n",
       "         [ 19,  19,  20,  ...,  74,  73,  73],\n",
       "         [ 18,  20,  20,  ...,  74,  73,  73],\n",
       "         ...,\n",
       "         [129, 128, 127,  ...,  32,  30,  32],\n",
       "         [130, 128, 128,  ...,  38,  43,  52],\n",
       "         [130, 128, 128,  ...,  57,  61,  71]],\n",
       "\n",
       "        [[ 30,  30,  31,  ...,  55,  54,  54],\n",
       "         [ 30,  30,  31,  ...,  55,  54,  54],\n",
       "         [ 29,  31,  31,  ...,  55,  54,  54],\n",
       "         ...,\n",
       "         [ 95,  94,  93,  ...,  36,  34,  36],\n",
       "         [ 96,  94,  94,  ...,  39,  44,  53],\n",
       "         [ 96,  94,  94,  ...,  56,  60,  70]]], dtype=torch.uint8)"
      ]
     },
     "execution_count": 26,
     "metadata": {},
     "output_type": "execute_result"
    }
   ],
   "source": [
    "transform(image)"
   ]
  },
  {
   "cell_type": "code",
   "execution_count": null,
   "id": "8f6781e3-d327-4ddb-b160-9befdb2be6ca",
   "metadata": {},
   "outputs": [],
   "source": []
  }
 ],
 "metadata": {
  "kernelspec": {
   "display_name": "Python 3 (ipykernel)",
   "language": "python",
   "name": "python3"
  },
  "language_info": {
   "codemirror_mode": {
    "name": "ipython",
    "version": 3
   },
   "file_extension": ".py",
   "mimetype": "text/x-python",
   "name": "python",
   "nbconvert_exporter": "python",
   "pygments_lexer": "ipython3",
   "version": "3.11.5"
  }
 },
 "nbformat": 4,
 "nbformat_minor": 5
}
