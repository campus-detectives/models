{
 "cells": [
  {
   "cell_type": "code",
   "execution_count": 1,
   "id": "1e0f0f76-930a-43e6-a836-7123f51e818f",
   "metadata": {},
   "outputs": [],
   "source": [
    "import torch\n",
    "import torchvision\n",
    "from torch import nn\n",
    "from torchvision.models.resnet import resnet18\n",
    "from fastai.vision.learner import create_body\n",
    "import psycopg2\n",
    "import json"
   ]
  },
  {
   "cell_type": "code",
   "execution_count": 2,
   "id": "ef1f7c31-5a95-4965-9f01-645d09127a02",
   "metadata": {},
   "outputs": [],
   "source": [
    "model=create_body(resnet18(), pretrained=True, n_in=224, cut=-2)"
   ]
  },
  {
   "cell_type": "code",
   "execution_count": 3,
   "id": "9d546503-337f-4f71-a38f-93409219e477",
   "metadata": {},
   "outputs": [],
   "source": [
    "scaler=torchvision.transforms.Resize((224,224))"
   ]
  },
  {
   "cell_type": "code",
   "execution_count": 4,
   "id": "b588f192-ba79-413f-856f-4223a08e81bb",
   "metadata": {},
   "outputs": [],
   "source": [
    "class emeddings(nn.Module):\n",
    "    def __init__(self):\n",
    "        super().__init__()\n",
    "        model=create_body(resnet18(),pretrained=True, n_in=224, cut=-2)\n",
    "\n",
    "    def forward(self,x):\n",
    "        return(model(x))"
   ]
  },
  {
   "cell_type": "code",
   "execution_count": 6,
   "id": "954493bc-afe0-435f-a411-65087f69c1bc",
   "metadata": {},
   "outputs": [
    {
     "name": "stdout",
     "output_type": "stream",
     "text": [
      "Connected to database successfully\n"
     ]
    }
   ],
   "source": [
    "try:\n",
    "    connection = psycopg2.connect(\n",
    "        dbname=\"postgres\",\n",
    "        user=\"postmoose\",\n",
    "        password=\"postmoose\",\n",
    "        host=\"localhost\"\n",
    "    )\n",
    "    print(\"Connected to database successfully\")\n",
    "except psycopg2.Error as e:\n",
    "    print(\"Unable to connect to the database:\", e)\n",
    "    \n"
   ]
  },
  {
   "cell_type": "code",
   "execution_count": 70,
   "id": "a9183582-8a02-4e73-b2cf-9b5fb3aa1bcc",
   "metadata": {},
   "outputs": [],
   "source": [
    "import numpy as np\n",
    "a1=[3,2,3,1]"
   ]
  },
  {
   "cell_type": "code",
   "execution_count": 71,
   "id": "c1966287-6a40-4b0d-939f-2d3a57b8ba82",
   "metadata": {},
   "outputs": [],
   "source": [
    "something=json.dumps(a1)"
   ]
  },
  {
   "cell_type": "code",
   "execution_count": 72,
   "id": "c5f8b074-8180-4b66-a503-56c930e26f02",
   "metadata": {},
   "outputs": [
    {
     "data": {
      "text/plain": [
       "[3, 2, 3, 1]"
      ]
     },
     "execution_count": 72,
     "metadata": {},
     "output_type": "execute_result"
    }
   ],
   "source": [
    "json.loads(something)"
   ]
  },
  {
   "cell_type": "code",
   "execution_count": 73,
   "id": "9a92904b-2816-4042-b68b-b0e98763494e",
   "metadata": {},
   "outputs": [],
   "source": [
    "t1=torch.tensor([1,2,3])"
   ]
  },
  {
   "cell_type": "code",
   "execution_count": 74,
   "id": "847dbc07-bee1-4a41-ba52-a1258b6cb90a",
   "metadata": {},
   "outputs": [
    {
     "data": {
      "text/plain": [
       "[1, 2, 3]"
      ]
     },
     "execution_count": 74,
     "metadata": {},
     "output_type": "execute_result"
    }
   ],
   "source": [
    "t1.tolist()"
   ]
  },
  {
   "cell_type": "code",
   "execution_count": 75,
   "id": "b1a04254-49b8-4aff-b02d-2af980893f58",
   "metadata": {},
   "outputs": [],
   "source": [
    "sample=torch.rand((512))"
   ]
  },
  {
   "cell_type": "code",
   "execution_count": 76,
   "id": "8caf54ec-07e1-45bd-9e47-d364ded7e2b7",
   "metadata": {},
   "outputs": [],
   "source": [
    "l1=sample.tolist()"
   ]
  },
  {
   "cell_type": "code",
   "execution_count": 77,
   "id": "4869f00c-56a3-43a2-a5a7-0f6aebfafdb6",
   "metadata": {},
   "outputs": [],
   "source": [
    "ser=json.dumps(l1)"
   ]
  },
  {
   "cell_type": "code",
   "execution_count": 7,
   "id": "44fa76ff-f131-44dd-9c2e-01de432832bd",
   "metadata": {},
   "outputs": [],
   "source": [
    "connection.set_session(autocommit=True)"
   ]
  },
  {
   "cell_type": "code",
   "execution_count": 8,
   "id": "59437b50-9a6f-4dc0-a2ca-9ea10abdc695",
   "metadata": {},
   "outputs": [],
   "source": [
    "cur = connection.cursor()"
   ]
  },
  {
   "cell_type": "code",
   "execution_count": 84,
   "id": "99c77011-d26e-4d93-b3ba-f585e7097502",
   "metadata": {},
   "outputs": [],
   "source": [
    "cur.execute(\"select * from found\")"
   ]
  },
  {
   "cell_type": "code",
   "execution_count": 99,
   "id": "7caa8610-e20a-4589-9176-1459a3dfb08b",
   "metadata": {},
   "outputs": [],
   "source": [
    "cur.execute(\"Select * FROM moose LIMIT 0\")\n",
    "colnames = [desc[0] for desc in cur.description]"
   ]
  },
  {
   "cell_type": "code",
   "execution_count": 100,
   "id": "06c22975-2b97-4cf6-bebc-c2fed495b297",
   "metadata": {},
   "outputs": [
    {
     "data": {
      "text/plain": [
       "['id', 'embedding']"
      ]
     },
     "execution_count": 100,
     "metadata": {},
     "output_type": "execute_result"
    }
   ],
   "source": [
    "colnames"
   ]
  },
  {
   "cell_type": "code",
   "execution_count": 105,
   "id": "5e0a8b1d-9750-43e1-a661-c712ab37681d",
   "metadata": {},
   "outputs": [],
   "source": [
    "cur.execute(f\"insert into moose values(1,'{ser}')\")"
   ]
  },
  {
   "cell_type": "code",
   "execution_count": 104,
   "id": "4b08cbd1-8f72-4142-a827-f327e2f027d0",
   "metadata": {},
   "outputs": [
    {
     "data": {
      "text/plain": [
       "str"
      ]
     },
     "execution_count": 104,
     "metadata": {},
     "output_type": "execute_result"
    }
   ],
   "source": [
    "type(ser)"
   ]
  },
  {
   "cell_type": "code",
   "execution_count": 108,
   "id": "75eb45d7-ca89-4ba4-82ef-3c1bc355414d",
   "metadata": {},
   "outputs": [],
   "source": [
    "cur.execute(f\"insert into moose values(2,'{ser}')\")\n",
    "cur.execute(f\"insert into moose values(3,'{ser}')\")\n",
    "cur.execute(f\"insert into moose values(4,'{ser}')\")\n",
    "cur.execute(f\"insert into moose values(5,'{ser}')\")\n",
    "cur.execute(f\"insert into moose values(6,'{ser}')\")"
   ]
  },
  {
   "cell_type": "code",
   "execution_count": 14,
   "id": "2fefa206-0fab-4f84-8c76-00f25ce612d2",
   "metadata": {
    "scrolled": true
   },
   "outputs": [
    {
     "data": {
      "text/plain": [
       "tensor([0.9839, 0.7841, 0.2941, 0.6626, 0.6158, 0.5452, 0.5212, 0.0349, 0.4930,\n",
       "        0.0375, 0.5735, 0.6442, 0.9628, 0.2046, 0.8973, 0.9007, 0.0335, 0.9786,\n",
       "        0.1482, 0.5293, 0.3872, 0.5954, 0.3833, 0.5377, 0.2890, 0.2990, 0.1282,\n",
       "        0.3482, 0.9373, 0.6466, 0.1053, 0.1996, 0.5484, 0.7085, 0.7136, 0.6187,\n",
       "        0.6995, 0.3958, 0.0396, 0.1280, 0.2200, 0.7824, 0.9899, 0.0990, 0.6142,\n",
       "        0.1681, 0.6028, 0.9681, 0.3198, 0.0118, 0.6776, 0.2478, 0.2129, 0.8307,\n",
       "        0.3009, 0.2993, 0.0544, 0.4076, 0.7364, 0.8281, 0.9400, 0.8656, 0.0498,\n",
       "        0.4833, 0.7583, 0.2827, 0.9505, 0.5448, 0.2736, 0.3258, 0.6522, 0.4914,\n",
       "        0.1449, 0.8879, 0.1503, 0.7217, 0.6459, 0.9767, 0.8888, 0.2792, 0.6025,\n",
       "        0.9937, 0.5006, 0.4923, 0.5719, 0.5722, 0.9710, 0.1884, 0.8954, 0.6421,\n",
       "        0.1510, 0.2692, 0.3986, 0.9858, 0.8998, 0.1007, 0.2740, 0.2323, 0.6237,\n",
       "        0.2667, 0.9796, 0.7754, 0.4227, 0.9389, 0.9458, 0.0608, 0.2617, 0.9659,\n",
       "        0.2420, 0.1321, 0.9237, 0.4090, 0.5354, 0.8882, 0.4732, 0.1005, 0.0411,\n",
       "        0.7321, 0.8482, 0.3425, 0.5444, 0.4438, 0.6854, 0.3074, 0.8667, 0.4919,\n",
       "        0.1321, 0.6072, 0.0791, 0.5179, 0.5761, 0.5049, 0.0356, 0.2934, 0.3053,\n",
       "        0.2241, 0.7261, 0.9030, 0.3282, 0.1945, 0.2725, 0.9057, 0.2789, 0.1161,\n",
       "        0.5517, 0.1394, 0.7076, 0.2858, 0.8709, 0.8022, 0.5231, 0.1283, 0.9445,\n",
       "        0.4911, 0.4177, 0.9065, 0.8094, 0.6256, 0.1890, 0.4790, 0.1122, 0.0933,\n",
       "        0.6564, 0.6811, 0.2006, 0.4610, 0.2022, 0.8659, 0.8601, 0.2140, 0.7383,\n",
       "        0.1771, 0.9534, 0.0197, 0.5084, 0.0708, 0.9165, 0.8340, 0.6439, 0.0034,\n",
       "        0.7706, 0.6756, 0.3354, 0.8182, 0.1062, 0.8002, 0.4595, 0.0411, 0.6909,\n",
       "        0.2172, 0.4300, 0.3583, 0.8753, 0.5841, 0.4487, 0.8872, 0.8206, 0.2871,\n",
       "        0.0994, 0.3299, 0.2960, 0.0940, 0.1593, 0.5448, 0.7003, 0.8982, 0.0355,\n",
       "        0.3332, 0.8420, 0.2811, 0.2668, 0.3312, 0.6605, 0.6360, 0.8451, 0.3636,\n",
       "        0.4349, 0.0821, 0.0181, 0.9700, 0.2678, 0.3874, 0.7618, 0.0449, 0.1368,\n",
       "        0.7270, 0.3714, 0.9411, 0.2331, 0.3729, 0.9893, 0.3919, 0.7560, 0.2139,\n",
       "        0.2942, 0.4358, 0.3322, 0.6649, 0.4102, 0.1416, 0.9381, 0.7350, 0.8573,\n",
       "        0.1449, 0.3549, 0.7235, 0.0361, 0.1124, 0.7723, 0.0263, 0.2724, 0.4515,\n",
       "        0.0663, 0.2323, 0.3441, 0.0766, 0.4778, 0.0337, 0.2191, 0.3009, 0.3748,\n",
       "        0.9886, 0.4962, 0.1364, 0.0283, 0.5108, 0.6028, 0.5202, 0.4587, 0.9530,\n",
       "        0.2626, 0.8180, 0.4579, 0.3048, 0.7641, 0.5766, 0.5236, 0.8803, 0.7483,\n",
       "        0.0557, 0.4129, 0.6933, 0.0137, 0.8153, 0.9506, 0.2004, 0.3428, 0.7942,\n",
       "        0.1777, 0.7943, 0.7523, 0.4500, 0.9637, 0.5830, 0.5705, 0.6347, 0.2588,\n",
       "        0.0748, 0.3241, 0.2501, 0.1305, 0.5944, 0.0359, 0.6573, 0.0782, 0.8416,\n",
       "        0.7645, 0.8300, 0.9235, 0.9805, 0.1109, 0.4706, 0.4724, 0.9244, 0.8878,\n",
       "        0.3350, 0.4130, 0.2213, 0.3750, 0.7632, 0.0756, 0.0772, 0.4566, 0.7069,\n",
       "        0.4519, 0.3365, 0.1590, 0.6577, 0.0132, 0.4436, 0.4855, 0.4446, 0.5572,\n",
       "        0.1326, 0.7131, 0.2675, 0.4523, 0.7003, 0.5666, 0.7007, 0.2154, 0.8411,\n",
       "        0.6786, 0.5500, 0.0701, 0.2577, 0.7154, 0.1038, 0.2283, 0.5590, 0.3116,\n",
       "        0.4398, 0.9460, 0.0607, 0.4228, 0.1872, 0.2897, 0.7142, 0.0636, 0.6787,\n",
       "        0.9492, 0.7209, 0.0023, 0.7530, 0.5382, 0.6866, 0.9914, 0.0579, 0.5797,\n",
       "        0.0480, 0.4348, 0.9121, 0.9346, 0.7683, 0.4019, 0.4659, 0.5473, 0.6107,\n",
       "        0.4371, 0.9234, 0.7081, 0.3644, 0.8154, 0.2972, 0.8550, 0.5503, 0.3456,\n",
       "        0.0885, 0.8207, 0.2800, 0.0705, 0.3274, 0.7671, 0.5543, 0.9035, 0.8941,\n",
       "        0.4199, 0.9964, 0.4449, 0.5019, 0.5030, 0.0734, 0.9010, 0.6909, 0.3987,\n",
       "        0.0930, 0.9833, 0.1615, 0.2584, 0.1448, 0.0871, 0.4240, 0.8783, 0.9042,\n",
       "        0.3098, 0.6397, 0.7589, 0.7895, 0.2376, 0.1293, 0.7619, 0.1893, 0.1525,\n",
       "        0.2459, 0.5043, 0.5574, 0.1181, 0.6557, 0.7539, 0.8422, 0.2136, 0.0128,\n",
       "        0.3989, 0.4468, 0.7740, 0.6861, 0.7807, 0.4858, 0.0863, 0.7843, 0.0922,\n",
       "        0.4254, 0.1231, 0.6019, 0.6895, 0.7462, 0.3550, 0.0874, 0.2724, 0.8435,\n",
       "        0.0027, 0.5088, 0.2277, 0.8481, 0.7716, 0.5211, 0.5270, 0.2894, 0.9198,\n",
       "        0.9004, 0.9886, 0.9855, 0.2218, 0.4786, 0.6704, 0.9973, 0.6918, 0.4962,\n",
       "        0.8359, 0.0566, 0.1745, 0.0638, 0.6919, 0.3127, 0.6231, 0.5652, 0.3339,\n",
       "        0.2741, 0.5648, 0.3498, 0.1975, 0.8540, 0.4223, 0.3529, 0.8845, 0.7886,\n",
       "        0.6413, 0.1011, 0.7219, 0.4087, 0.3173, 0.4631, 0.8618, 0.9228, 0.5472,\n",
       "        0.9984, 0.2893, 0.7179, 0.3478, 0.2202, 0.0445, 0.5757, 0.1908, 0.8998,\n",
       "        0.6203, 0.8252, 0.2536, 0.3398, 0.9726, 0.7680, 0.8779, 0.8713])"
      ]
     },
     "execution_count": 14,
     "metadata": {},
     "output_type": "execute_result"
    }
   ],
   "source": [
    "cur.execute(f\"select * from moose\")\n",
    "torch.tensor(json.loads(cur.fetchall()[0][1]))"
   ]
  },
  {
   "cell_type": "code",
   "execution_count": null,
   "id": "8a387bee-9239-4a0d-99c3-69a926111599",
   "metadata": {},
   "outputs": [],
   "source": []
  }
 ],
 "metadata": {
  "kernelspec": {
   "display_name": "Python 3 (ipykernel)",
   "language": "python",
   "name": "python3"
  },
  "language_info": {
   "codemirror_mode": {
    "name": "ipython",
    "version": 3
   },
   "file_extension": ".py",
   "mimetype": "text/x-python",
   "name": "python",
   "nbconvert_exporter": "python",
   "pygments_lexer": "ipython3",
   "version": "3.11.5"
  }
 },
 "nbformat": 4,
 "nbformat_minor": 5
}
